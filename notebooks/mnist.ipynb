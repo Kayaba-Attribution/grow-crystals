{
 "cells": [
  {
   "cell_type": "code",
   "execution_count": 1,
   "metadata": {},
   "outputs": [],
   "source": [
    "import sys\n",
    "sys.path.append(\"../\") \n",
    "\n",
    "from src.utils.driver import set_seed\n",
    "\n",
    "set_seed(57)"
   ]
  },
  {
   "cell_type": "markdown",
   "metadata": {},
   "source": [
    "### Define Model and Dataset"
   ]
  },
  {
   "cell_type": "code",
   "execution_count": 2,
   "metadata": {},
   "outputs": [],
   "source": [
    "import torch\n",
    "import torch.nn as nn\n",
    "import torch.optim as optim\n",
    "from torchvision import datasets, transforms\n",
    "from torch.utils.data import DataLoader\n",
    "\n",
    "from src.utils.model import DistLayer\n",
    "\n",
    "# Define the model class\n",
    "class SimpleNN(nn.Module):\n",
    "    def __init__(self, harmonic=False):\n",
    "        super(SimpleNN, self).__init__()\n",
    "        self.harmonic = harmonic\n",
    "        if harmonic:\n",
    "            self.fc1 = DistLayer(28 * 28, 10, n=28.)\n",
    "        else:\n",
    "            self.fc1 = nn.Linear(28 * 28, 10)\n",
    "        nn.init.normal_(self.fc1.weight, mean=0, std=1/28.)\n",
    "\n",
    "    def forward(self, x):\n",
    "        x = x.view(-1, 28 * 28)  # Flatten the input\n",
    "        x = self.fc1(x)\n",
    "        if self.harmonic:\n",
    "            prob = x/torch.sum(x, dim=1, keepdim=True)\n",
    "            logits = (-1)*torch.log(prob)\n",
    "            return logits\n",
    "        return x\n",
    "\n",
    "# Set device\n",
    "device = torch.device(\"cuda\" if torch.cuda.is_available() else \"cpu\")\n",
    "\n",
    "# Hyperparameters\n",
    "batch_size = 64\n",
    "learning_rate = 0.001\n",
    "max_epochs = 100\n",
    "\n",
    "# Load MNIST dataset\n",
    "transform = transforms.Compose([\n",
    "    transforms.ToTensor()\n",
    "])\n",
    "\n",
    "train_dataset = datasets.MNIST(root=\"./data\", train=True, transform=transform, download=True)\n",
    "test_dataset = datasets.MNIST(root=\"./data\", train=False, transform=transform, download=True)\n",
    "\n",
    "train_loader = DataLoader(train_dataset, batch_size=batch_size, shuffle=True)\n",
    "test_loader = DataLoader(test_dataset, batch_size=batch_size, shuffle=False)"
   ]
  },
  {
   "cell_type": "markdown",
   "metadata": {},
   "source": [
    "### Harmonic Model"
   ]
  },
  {
   "cell_type": "code",
   "execution_count": 3,
   "metadata": {},
   "outputs": [
    {
     "name": "stdout",
     "output_type": "stream",
     "text": [
      "Epoch [1], Loss: 0.6199\n",
      "Epoch [11], Loss: 0.2646\n",
      "Epoch [21], Loss: 0.2550\n",
      "Epoch [31], Loss: 0.2516\n",
      "Epoch [41], Loss: 0.2504\n",
      "Epoch [51], Loss: 0.2499\n",
      "Epoch [61], Loss: 0.2497\n",
      "Epoch [71], Loss: 0.2495\n",
      "Stopping training. No improvement for 10 epochs.\n",
      "Test Accuracy: 92.49%\n"
     ]
    }
   ],
   "source": [
    "# Initialize the model, loss function, and optimizer\n",
    "model = SimpleNN(harmonic=True).to(device)\n",
    "criterion = nn.CrossEntropyLoss()\n",
    "optimizer = optim.AdamW(model.parameters(), lr=learning_rate)\n",
    "\n",
    "patience = 10\n",
    "min_delta = 1e-4\n",
    "best_loss = 1e9\n",
    "\n",
    "# Training loop\n",
    "for epoch in range(max_epochs):\n",
    "    model.train()\n",
    "    running_loss = 0.0\n",
    "    for batch_idx, (data, targets) in enumerate(train_loader):\n",
    "        data, targets = data.to(device), targets.to(device)\n",
    "\n",
    "        # Forward pass\n",
    "        outputs = model(data)\n",
    "        loss = outputs[range(targets.size(0)), targets].mean()\n",
    "\n",
    "        # Backward pass and optimization\n",
    "        optimizer.zero_grad()\n",
    "        loss.backward()\n",
    "        optimizer.step()\n",
    "\n",
    "        running_loss += loss.item()\n",
    "\n",
    "    epoch_loss = running_loss / len(train_loader)\n",
    "        \n",
    "    # Early stopping check\n",
    "    if epoch_loss < best_loss - min_delta:\n",
    "        best_loss = epoch_loss\n",
    "        epochs_no_improve = 0\n",
    "    else:\n",
    "        epochs_no_improve += 1\n",
    "\n",
    "    if epoch % 10 == 0:\n",
    "        print(f\"Epoch [{epoch + 1}], Loss: {running_loss / len(train_loader):.4f}\")\n",
    "\n",
    "    if epochs_no_improve >= patience:\n",
    "        print(f\"Stopping training. No improvement for {patience} epochs.\")\n",
    "        break\n",
    "\n",
    "# Evaluation\n",
    "model.eval()\n",
    "correct = 0\n",
    "with torch.no_grad():\n",
    "    for data, targets in test_loader:\n",
    "        data, targets = data.to(device), targets.to(device)\n",
    "        outputs = (-1)*model(data)\n",
    "        _, predicted = torch.max(outputs, 1)\n",
    "        correct += (predicted == targets).sum().item()\n",
    "\n",
    "accuracy = correct / len(test_dataset) * 100\n",
    "print(f\"Test Accuracy: {accuracy:.2f}%\")\n",
    "\n",
    "# Save the model\n",
    "torch.save(model.state_dict(), \"../results/mnist_harmonic.pth\")"
   ]
  },
  {
   "cell_type": "code",
   "execution_count": 8,
   "metadata": {},
   "outputs": [
    {
     "name": "stderr",
     "output_type": "stream",
     "text": [
      "/tmp/ipykernel_1823847/4152671310.py:4: FutureWarning: You are using `torch.load` with `weights_only=False` (the current default value), which uses the default pickle module implicitly. It is possible to construct malicious pickle data which will execute arbitrary code during unpickling (See https://github.com/pytorch/pytorch/blob/main/SECURITY.md#untrusted-models for more details). In a future release, the default value for `weights_only` will be flipped to `True`. This limits the functions that could be executed during unpickling. Arbitrary objects will no longer be allowed to be loaded via this mode unless they are explicitly allowlisted by the user via `torch.serialization.add_safe_globals`. We recommend you start setting `weights_only=True` for any use case where you don't have full control of the loaded file. Please open an issue on GitHub for any issues related to this experimental feature.\n",
      "  weights = torch.load(\"../results/mnist_harmonic.pth\")\n"
     ]
    },
    {
     "data": {
      "image/png": "[encoded data removed]",
      "text/plain": [
       "<Figure size 1000x400 with 10 Axes>"
      ]
     },
     "metadata": {},
     "output_type": "display_data"
    }
   ],
   "source": [
    "import matplotlib.pyplot as plt\n",
    "import numpy as np\n",
    "\n",
    "weights = torch.load(\"../results/mnist_harmonic.pth\")\n",
    "\n",
    "plt.rcParams.update({'font.size': 18})\n",
    "\n",
    "fig, ax = plt.subplots(2, 5, figsize=(10, 4))\n",
    "plt.suptitle(\"MNIST: Harmonic Weight Visualization\")\n",
    "for i in range(10):\n",
    "    plt.subplot(2, 5, i + 1)\n",
    "    weight = weights['fc1.weight'][i].reshape(28, 28).detach().numpy()\n",
    "    weight = np.where(weight < 0.01, 1, 0)\n",
    "    plt.imshow(weight)\n",
    "#    plt.axis(\"off\")\n",
    "    plt.xticks([])\n",
    "    plt.yticks([])\n",
    "\n",
    "plt.savefig(\"../figures/mnist_harmonic_weights.pdf\", bbox_inches=\"tight\")"
   ]
  },
  {
   "cell_type": "markdown",
   "metadata": {},
   "source": [
    "### Standard Model"
   ]
  },
  {
   "cell_type": "code",
   "execution_count": 5,
   "metadata": {},
   "outputs": [
    {
     "name": "stdout",
     "output_type": "stream",
     "text": [
      "Epoch [1], Loss: 0.5467\n",
      "Epoch [11], Loss: 0.2539\n",
      "Epoch [21], Loss: 0.2429\n",
      "Epoch [31], Loss: 0.2375\n",
      "Epoch [41], Loss: 0.2346\n",
      "Epoch [51], Loss: 0.2326\n",
      "Epoch [61], Loss: 0.2311\n",
      "Epoch [71], Loss: 0.2297\n",
      "Epoch [81], Loss: 0.2294\n",
      "Epoch [91], Loss: 0.2285\n",
      "Test Accuracy: 92.50%\n"
     ]
    }
   ],
   "source": [
    "# Initialize the model, loss function, and optimizer\n",
    "model = SimpleNN(harmonic=False).to(device)\n",
    "criterion = nn.CrossEntropyLoss()\n",
    "optimizer = optim.AdamW(model.parameters(), lr=learning_rate)\n",
    "\n",
    "patience = 10\n",
    "min_delta = 1e-4\n",
    "best_loss = 1e9\n",
    "\n",
    "# Training loop\n",
    "for epoch in range(max_epochs):\n",
    "    model.train()\n",
    "    running_loss = 0.0\n",
    "    for batch_idx, (data, targets) in enumerate(train_loader):\n",
    "        data, targets = data.to(device), targets.to(device)\n",
    "\n",
    "        # Forward pass\n",
    "        outputs = model(data)\n",
    "        loss = criterion(outputs, targets)\n",
    "\n",
    "        # Backward pass and optimization\n",
    "        optimizer.zero_grad()\n",
    "        loss.backward()\n",
    "        optimizer.step()\n",
    "\n",
    "        running_loss += loss.item()\n",
    "\n",
    "    epoch_loss = running_loss / len(train_loader)\n",
    "        \n",
    "    # Early stopping check\n",
    "    if epoch_loss < best_loss - min_delta:\n",
    "        best_loss = epoch_loss\n",
    "        epochs_no_improve = 0\n",
    "    else:\n",
    "        epochs_no_improve += 1\n",
    "\n",
    "    if epoch % 10 == 0:\n",
    "        print(f\"Epoch [{epoch + 1}], Loss: {running_loss / len(train_loader):.4f}\")\n",
    "\n",
    "    if epochs_no_improve >= patience:\n",
    "        print(f\"Stopping training. No improvement for {patience} epochs.\")\n",
    "        break\n",
    "\n",
    "# Evaluation\n",
    "model.eval()\n",
    "correct = 0\n",
    "with torch.no_grad():\n",
    "    for data, targets in test_loader:\n",
    "        data, targets = data.to(device), targets.to(device)\n",
    "        outputs = model(data)\n",
    "        _, predicted = torch.max(outputs, 1)\n",
    "        correct += (predicted == targets).sum().item()\n",
    "\n",
    "accuracy = correct / len(test_dataset) * 100\n",
    "print(f\"Test Accuracy: {accuracy:.2f}%\")\n",
    "torch.save(model.state_dict(), \"../results/mnist_standard.pth\")\n"
   ]
  },
  {
   "cell_type": "code",
   "execution_count": 7,
   "metadata": {},
   "outputs": [
    {
     "name": "stderr",
     "output_type": "stream",
     "text": [
      "/tmp/ipykernel_1823847/3949916341.py:4: FutureWarning: You are using `torch.load` with `weights_only=False` (the current default value), which uses the default pickle module implicitly. It is possible to construct malicious pickle data which will execute arbitrary code during unpickling (See https://github.com/pytorch/pytorch/blob/main/SECURITY.md#untrusted-models for more details). In a future release, the default value for `weights_only` will be flipped to `True`. This limits the functions that could be executed during unpickling. Arbitrary objects will no longer be allowed to be loaded via this mode unless they are explicitly allowlisted by the user via `torch.serialization.add_safe_globals`. We recommend you start setting `weights_only=True` for any use case where you don't have full control of the loaded file. Please open an issue on GitHub for any issues related to this experimental feature.\n",
      "  weights = torch.load(\"../results/mnist_standard.pth\")\n"
     ]
    },
    {
     "data": {
      "image/png": "[encoded data removed]",
      "text/plain": [
       "<Figure size 1000x400 with 10 Axes>"
      ]
     },
     "metadata": {},
     "output_type": "display_data"
    }
   ],
   "source": [
    "import matplotlib.pyplot as plt\n",
    "import numpy as np\n",
    "\n",
    "weights = torch.load(\"../results/mnist_standard.pth\")\n",
    "\n",
    "plt.rcParams.update({'font.size': 18})\n",
    "fig, ax = plt.subplots(2, 5, figsize=(10, 4))\n",
    "plt.suptitle(\"MNIST: Standard Weight Visualization\")\n",
    "for i in range(10):\n",
    "    plt.subplot(2, 5, i + 1)\n",
    "    weight = weights['fc1.weight'][i].reshape(28, 28).detach().numpy()\n",
    "    weight = np.where(weight < 0.01, 1, 0)\n",
    "    plt.imshow(weight)\n",
    "    plt.xticks([])\n",
    "    plt.yticks([])\n",
    "\n",
    "#plt.subplots_adjust(wspace=0.0, hspace=0.0)\n",
    "plt.savefig(\"../figures/mnist_standard_weights.pdf\", bbox_inches=\"tight\")"
   ]
  },
  {
   "cell_type": "code",
   "execution_count": null,
   "metadata": {},
   "outputs": [],
   "source": []
  }
 ],
 "metadata": {
  "kernelspec": {
   "display_name": "crystal",
   "language": "python",
   "name": "python3"
  },
  "language_info": {
   "codemirror_mode": {
    "name": "ipython",
    "version": 3
   },
   "file_extension": ".py",
   "mimetype": "text/x-python",
   "name": "python",
   "nbconvert_exporter": "python",
   "pygments_lexer": "ipython3",
   "version": "3.12.8"
  }
 },
 "nbformat": 4,
 "nbformat_minor": 2
}
