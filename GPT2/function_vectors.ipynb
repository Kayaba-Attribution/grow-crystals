{
 "cells": [
  {
   "cell_type": "code",
   "execution_count": 2,
   "id": "e5d5ac79",
   "metadata": {
    "scrolled": false
   },
   "outputs": [
    {
     "name": "stdout",
     "output_type": "stream",
     "text": [
      "model_name=standard\n",
      "scale_mode=all\n",
      "pca_mode=all\n",
      "n components=2\n",
      "10000\n",
      "Resuming training from out_small_adam\n"
     ]
    },
    {
     "name": "stderr",
     "output_type": "stream",
     "text": [
      "/Users/ziming/opt/anaconda3/lib/python3.9/site-packages/torch/amp/autocast_mode.py:250: UserWarning: User provided device_type of 'cuda', but CUDA is not available. Disabling\n",
      "  warnings.warn(\n"
     ]
    },
    {
     "name": "stdout",
     "output_type": "stream",
     "text": [
      "number of parameters: 123.59M\n",
      "antonym.json\n",
      "prev_item.json\n",
      "capitalize.json\n",
      "english-german.json\n",
      "word_length.json\n",
      "country-capital.json\n",
      "synonym.json\n",
      "next_item.json\n",
      "english-french.json\n",
      "singular-plural.json\n",
      "english-spanish.json\n",
      "present-past.json\n",
      "model_name=standard\n",
      "scale_mode=all\n",
      "pca_mode=all\n",
      "n components=5\n",
      "10000\n",
      "Resuming training from out_small_adam\n"
     ]
    },
    {
     "name": "stderr",
     "output_type": "stream",
     "text": [
      "/Users/ziming/opt/anaconda3/lib/python3.9/site-packages/torch/amp/autocast_mode.py:250: UserWarning: User provided device_type of 'cuda', but CUDA is not available. Disabling\n",
      "  warnings.warn(\n"
     ]
    },
    {
     "name": "stdout",
     "output_type": "stream",
     "text": [
      "number of parameters: 123.59M\n",
      "antonym.json\n",
      "prev_item.json\n",
      "capitalize.json\n",
      "english-german.json\n",
      "word_length.json\n",
      "country-capital.json\n",
      "synonym.json\n",
      "next_item.json\n",
      "english-french.json\n",
      "singular-plural.json\n",
      "english-spanish.json\n",
      "present-past.json\n",
      "model_name=standard\n",
      "scale_mode=all\n",
      "pca_mode=all\n",
      "n components=10\n",
      "10000\n",
      "Resuming training from out_small_adam\n"
     ]
    },
    {
     "name": "stderr",
     "output_type": "stream",
     "text": [
      "/Users/ziming/opt/anaconda3/lib/python3.9/site-packages/torch/amp/autocast_mode.py:250: UserWarning: User provided device_type of 'cuda', but CUDA is not available. Disabling\n",
      "  warnings.warn(\n"
     ]
    },
    {
     "name": "stdout",
     "output_type": "stream",
     "text": [
      "number of parameters: 123.59M\n",
      "antonym.json\n",
      "prev_item.json\n",
      "capitalize.json\n",
      "english-german.json\n",
      "word_length.json\n",
      "country-capital.json\n",
      "synonym.json\n",
      "next_item.json\n",
      "english-french.json\n",
      "singular-plural.json\n",
      "english-spanish.json\n",
      "present-past.json\n",
      "model_name=standard\n",
      "scale_mode=all\n",
      "pca_mode=all\n",
      "n components=100\n",
      "10000\n",
      "Resuming training from out_small_adam\n"
     ]
    },
    {
     "name": "stderr",
     "output_type": "stream",
     "text": [
      "/Users/ziming/opt/anaconda3/lib/python3.9/site-packages/torch/amp/autocast_mode.py:250: UserWarning: User provided device_type of 'cuda', but CUDA is not available. Disabling\n",
      "  warnings.warn(\n"
     ]
    },
    {
     "name": "stdout",
     "output_type": "stream",
     "text": [
      "number of parameters: 123.59M\n",
      "antonym.json\n",
      "prev_item.json\n",
      "capitalize.json\n",
      "english-german.json\n",
      "word_length.json\n",
      "country-capital.json\n",
      "synonym.json\n",
      "next_item.json\n",
      "english-french.json\n",
      "singular-plural.json\n",
      "english-spanish.json\n",
      "present-past.json\n",
      "model_name=standard\n",
      "scale_mode=all\n",
      "pca_mode=task\n",
      "n components=2\n",
      "10000\n",
      "Resuming training from out_small_adam\n"
     ]
    },
    {
     "name": "stderr",
     "output_type": "stream",
     "text": [
      "/Users/ziming/opt/anaconda3/lib/python3.9/site-packages/torch/amp/autocast_mode.py:250: UserWarning: User provided device_type of 'cuda', but CUDA is not available. Disabling\n",
      "  warnings.warn(\n"
     ]
    },
    {
     "name": "stdout",
     "output_type": "stream",
     "text": [
      "number of parameters: 123.59M\n",
      "antonym.json\n",
      "prev_item.json\n",
      "capitalize.json\n",
      "english-german.json\n",
      "word_length.json\n",
      "country-capital.json\n",
      "synonym.json\n",
      "next_item.json\n",
      "english-french.json\n",
      "singular-plural.json\n",
      "english-spanish.json\n",
      "present-past.json\n",
      "model_name=standard\n",
      "scale_mode=all\n",
      "pca_mode=task\n",
      "n components=5\n",
      "10000\n",
      "Resuming training from out_small_adam\n"
     ]
    },
    {
     "name": "stderr",
     "output_type": "stream",
     "text": [
      "/Users/ziming/opt/anaconda3/lib/python3.9/site-packages/torch/amp/autocast_mode.py:250: UserWarning: User provided device_type of 'cuda', but CUDA is not available. Disabling\n",
      "  warnings.warn(\n"
     ]
    },
    {
     "name": "stdout",
     "output_type": "stream",
     "text": [
      "number of parameters: 123.59M\n",
      "antonym.json\n",
      "prev_item.json\n",
      "capitalize.json\n",
      "english-german.json\n",
      "word_length.json\n",
      "country-capital.json\n",
      "synonym.json\n",
      "next_item.json\n",
      "english-french.json\n",
      "singular-plural.json\n",
      "english-spanish.json\n",
      "present-past.json\n",
      "model_name=standard\n",
      "scale_mode=all\n",
      "pca_mode=task\n",
      "n components=10\n",
      "10000\n",
      "Resuming training from out_small_adam\n"
     ]
    },
    {
     "name": "stderr",
     "output_type": "stream",
     "text": [
      "/Users/ziming/opt/anaconda3/lib/python3.9/site-packages/torch/amp/autocast_mode.py:250: UserWarning: User provided device_type of 'cuda', but CUDA is not available. Disabling\n",
      "  warnings.warn(\n"
     ]
    },
    {
     "name": "stdout",
     "output_type": "stream",
     "text": [
      "number of parameters: 123.59M\n",
      "antonym.json\n",
      "prev_item.json\n",
      "capitalize.json\n",
      "english-german.json\n",
      "word_length.json\n",
      "country-capital.json\n",
      "synonym.json\n",
      "next_item.json\n",
      "english-french.json\n",
      "singular-plural.json\n",
      "english-spanish.json\n",
      "present-past.json\n",
      "model_name=standard\n",
      "scale_mode=all\n",
      "pca_mode=task\n",
      "n components=100\n",
      "10000\n",
      "Resuming training from out_small_adam\n"
     ]
    },
    {
     "name": "stderr",
     "output_type": "stream",
     "text": [
      "/Users/ziming/opt/anaconda3/lib/python3.9/site-packages/torch/amp/autocast_mode.py:250: UserWarning: User provided device_type of 'cuda', but CUDA is not available. Disabling\n",
      "  warnings.warn(\n"
     ]
    },
    {
     "name": "stdout",
     "output_type": "stream",
     "text": [
      "number of parameters: 123.59M\n",
      "antonym.json\n",
      "prev_item.json\n",
      "capitalize.json\n",
      "english-german.json\n",
      "word_length.json\n",
      "country-capital.json\n",
      "synonym.json\n",
      "next_item.json\n",
      "english-french.json\n",
      "singular-plural.json\n",
      "english-spanish.json\n",
      "present-past.json\n",
      "model_name=standard\n",
      "scale_mode=task\n",
      "pca_mode=all\n",
      "n components=2\n",
      "10000\n",
      "Resuming training from out_small_adam\n"
     ]
    },
    {
     "name": "stderr",
     "output_type": "stream",
     "text": [
      "/Users/ziming/opt/anaconda3/lib/python3.9/site-packages/torch/amp/autocast_mode.py:250: UserWarning: User provided device_type of 'cuda', but CUDA is not available. Disabling\n",
      "  warnings.warn(\n"
     ]
    },
    {
     "name": "stdout",
     "output_type": "stream",
     "text": [
      "number of parameters: 123.59M\n",
      "antonym.json\n",
      "prev_item.json\n",
      "capitalize.json\n",
      "english-german.json\n",
      "word_length.json\n",
      "country-capital.json\n",
      "synonym.json\n",
      "next_item.json\n",
      "english-french.json\n",
      "singular-plural.json\n",
      "english-spanish.json\n",
      "present-past.json\n",
      "model_name=standard\n",
      "scale_mode=task\n",
      "pca_mode=all\n",
      "n components=5\n",
      "10000\n",
      "Resuming training from out_small_adam\n"
     ]
    },
    {
     "name": "stderr",
     "output_type": "stream",
     "text": [
      "/Users/ziming/opt/anaconda3/lib/python3.9/site-packages/torch/amp/autocast_mode.py:250: UserWarning: User provided device_type of 'cuda', but CUDA is not available. Disabling\n",
      "  warnings.warn(\n"
     ]
    },
    {
     "name": "stdout",
     "output_type": "stream",
     "text": [
      "number of parameters: 123.59M\n",
      "antonym.json\n",
      "prev_item.json\n",
      "capitalize.json\n",
      "english-german.json\n",
      "word_length.json\n",
      "country-capital.json\n",
      "synonym.json\n",
      "next_item.json\n",
      "english-french.json\n",
      "singular-plural.json\n",
      "english-spanish.json\n",
      "present-past.json\n",
      "model_name=standard\n",
      "scale_mode=task\n",
      "pca_mode=all\n",
      "n components=10\n",
      "10000\n",
      "Resuming training from out_small_adam\n"
     ]
    },
    {
     "name": "stderr",
     "output_type": "stream",
     "text": [
      "/Users/ziming/opt/anaconda3/lib/python3.9/site-packages/torch/amp/autocast_mode.py:250: UserWarning: User provided device_type of 'cuda', but CUDA is not available. Disabling\n",
      "  warnings.warn(\n"
     ]
    },
    {
     "name": "stdout",
     "output_type": "stream",
     "text": [
      "number of parameters: 123.59M\n",
      "antonym.json\n",
      "prev_item.json\n",
      "capitalize.json\n",
      "english-german.json\n",
      "word_length.json\n",
      "country-capital.json\n",
      "synonym.json\n",
      "next_item.json\n",
      "english-french.json\n",
      "singular-plural.json\n",
      "english-spanish.json\n",
      "present-past.json\n",
      "model_name=standard\n",
      "scale_mode=task\n",
      "pca_mode=all\n",
      "n components=100\n",
      "10000\n",
      "Resuming training from out_small_adam\n"
     ]
    },
    {
     "name": "stderr",
     "output_type": "stream",
     "text": [
      "/Users/ziming/opt/anaconda3/lib/python3.9/site-packages/torch/amp/autocast_mode.py:250: UserWarning: User provided device_type of 'cuda', but CUDA is not available. Disabling\n",
      "  warnings.warn(\n"
     ]
    },
    {
     "name": "stdout",
     "output_type": "stream",
     "text": [
      "number of parameters: 123.59M\n",
      "antonym.json\n",
      "prev_item.json\n",
      "capitalize.json\n",
      "english-german.json\n",
      "word_length.json\n",
      "country-capital.json\n",
      "synonym.json\n",
      "next_item.json\n",
      "english-french.json\n",
      "singular-plural.json\n",
      "english-spanish.json\n",
      "present-past.json\n",
      "model_name=standard\n",
      "scale_mode=task\n",
      "pca_mode=task\n",
      "n components=2\n",
      "10000\n",
      "Resuming training from out_small_adam\n"
     ]
    },
    {
     "name": "stderr",
     "output_type": "stream",
     "text": [
      "/Users/ziming/opt/anaconda3/lib/python3.9/site-packages/torch/amp/autocast_mode.py:250: UserWarning: User provided device_type of 'cuda', but CUDA is not available. Disabling\n",
      "  warnings.warn(\n"
     ]
    },
    {
     "name": "stdout",
     "output_type": "stream",
     "text": [
      "number of parameters: 123.59M\n",
      "antonym.json\n",
      "prev_item.json\n",
      "capitalize.json\n",
      "english-german.json\n",
      "word_length.json\n",
      "country-capital.json\n",
      "synonym.json\n",
      "next_item.json\n",
      "english-french.json\n",
      "singular-plural.json\n",
      "english-spanish.json\n",
      "present-past.json\n",
      "model_name=standard\n",
      "scale_mode=task\n",
      "pca_mode=task\n",
      "n components=5\n",
      "10000\n",
      "Resuming training from out_small_adam\n"
     ]
    },
    {
     "name": "stderr",
     "output_type": "stream",
     "text": [
      "/Users/ziming/opt/anaconda3/lib/python3.9/site-packages/torch/amp/autocast_mode.py:250: UserWarning: User provided device_type of 'cuda', but CUDA is not available. Disabling\n",
      "  warnings.warn(\n"
     ]
    },
    {
     "name": "stdout",
     "output_type": "stream",
     "text": [
      "number of parameters: 123.59M\n",
      "antonym.json\n",
      "prev_item.json\n",
      "capitalize.json\n",
      "english-german.json\n",
      "word_length.json\n",
      "country-capital.json\n",
      "synonym.json\n",
      "next_item.json\n",
      "english-french.json\n",
      "singular-plural.json\n",
      "english-spanish.json\n",
      "present-past.json\n",
      "model_name=standard\n",
      "scale_mode=task\n",
      "pca_mode=task\n",
      "n components=10\n",
      "10000\n",
      "Resuming training from out_small_adam\n"
     ]
    },
    {
     "name": "stderr",
     "output_type": "stream",
     "text": [
      "/Users/ziming/opt/anaconda3/lib/python3.9/site-packages/torch/amp/autocast_mode.py:250: UserWarning: User provided device_type of 'cuda', but CUDA is not available. Disabling\n",
      "  warnings.warn(\n"
     ]
    },
    {
     "name": "stdout",
     "output_type": "stream",
     "text": [
      "number of parameters: 123.59M\n",
      "antonym.json\n",
      "prev_item.json\n",
      "capitalize.json\n",
      "english-german.json\n",
      "word_length.json\n",
      "country-capital.json\n",
      "synonym.json\n",
      "next_item.json\n",
      "english-french.json\n",
      "singular-plural.json\n",
      "english-spanish.json\n",
      "present-past.json\n",
      "model_name=standard\n",
      "scale_mode=task\n",
      "pca_mode=task\n",
      "n components=100\n",
      "10000\n",
      "Resuming training from out_small_adam\n"
     ]
    },
    {
     "name": "stderr",
     "output_type": "stream",
     "text": [
      "/Users/ziming/opt/anaconda3/lib/python3.9/site-packages/torch/amp/autocast_mode.py:250: UserWarning: User provided device_type of 'cuda', but CUDA is not available. Disabling\n",
      "  warnings.warn(\n"
     ]
    },
    {
     "name": "stdout",
     "output_type": "stream",
     "text": [
      "number of parameters: 123.59M\n",
      "antonym.json\n",
      "prev_item.json\n",
      "capitalize.json\n",
      "english-german.json\n",
      "word_length.json\n",
      "country-capital.json\n",
      "synonym.json\n",
      "next_item.json\n",
      "english-french.json\n",
      "singular-plural.json\n",
      "english-spanish.json\n",
      "present-past.json\n",
      "model_name=standard\n",
      "scale_mode=dp\n",
      "pca_mode=all\n",
      "n components=2\n",
      "10000\n",
      "Resuming training from out_small_adam\n"
     ]
    },
    {
     "name": "stderr",
     "output_type": "stream",
     "text": [
      "/Users/ziming/opt/anaconda3/lib/python3.9/site-packages/torch/amp/autocast_mode.py:250: UserWarning: User provided device_type of 'cuda', but CUDA is not available. Disabling\n",
      "  warnings.warn(\n"
     ]
    },
    {
     "name": "stdout",
     "output_type": "stream",
     "text": [
      "number of parameters: 123.59M\n",
      "antonym.json\n",
      "prev_item.json\n",
      "capitalize.json\n",
      "english-german.json\n",
      "word_length.json\n",
      "country-capital.json\n",
      "synonym.json\n",
      "next_item.json\n",
      "english-french.json\n",
      "singular-plural.json\n",
      "english-spanish.json\n",
      "present-past.json\n",
      "model_name=standard\n",
      "scale_mode=dp\n",
      "pca_mode=all\n",
      "n components=5\n",
      "10000\n",
      "Resuming training from out_small_adam\n"
     ]
    },
    {
     "name": "stderr",
     "output_type": "stream",
     "text": [
      "/Users/ziming/opt/anaconda3/lib/python3.9/site-packages/torch/amp/autocast_mode.py:250: UserWarning: User provided device_type of 'cuda', but CUDA is not available. Disabling\n",
      "  warnings.warn(\n"
     ]
    },
    {
     "name": "stdout",
     "output_type": "stream",
     "text": [
      "number of parameters: 123.59M\n",
      "antonym.json\n",
      "prev_item.json\n",
      "capitalize.json\n",
      "english-german.json\n",
      "word_length.json\n",
      "country-capital.json\n",
      "synonym.json\n",
      "next_item.json\n",
      "english-french.json\n",
      "singular-plural.json\n",
      "english-spanish.json\n",
      "present-past.json\n",
      "model_name=standard\n",
      "scale_mode=dp\n",
      "pca_mode=all\n",
      "n components=10\n",
      "10000\n",
      "Resuming training from out_small_adam\n"
     ]
    },
    {
     "name": "stderr",
     "output_type": "stream",
     "text": [
      "/Users/ziming/opt/anaconda3/lib/python3.9/site-packages/torch/amp/autocast_mode.py:250: UserWarning: User provided device_type of 'cuda', but CUDA is not available. Disabling\n",
      "  warnings.warn(\n"
     ]
    },
    {
     "name": "stdout",
     "output_type": "stream",
     "text": [
      "number of parameters: 123.59M\n",
      "antonym.json\n",
      "prev_item.json\n",
      "capitalize.json\n",
      "english-german.json\n",
      "word_length.json\n",
      "country-capital.json\n",
      "synonym.json\n",
      "next_item.json\n",
      "english-french.json\n",
      "singular-plural.json\n",
      "english-spanish.json\n",
      "present-past.json\n",
      "model_name=standard\n",
      "scale_mode=dp\n",
      "pca_mode=all\n",
      "n components=100\n",
      "10000\n",
      "Resuming training from out_small_adam\n"
     ]
    },
    {
     "name": "stderr",
     "output_type": "stream",
     "text": [
      "/Users/ziming/opt/anaconda3/lib/python3.9/site-packages/torch/amp/autocast_mode.py:250: UserWarning: User provided device_type of 'cuda', but CUDA is not available. Disabling\n",
      "  warnings.warn(\n"
     ]
    },
    {
     "name": "stdout",
     "output_type": "stream",
     "text": [
      "number of parameters: 123.59M\n",
      "antonym.json\n",
      "prev_item.json\n",
      "capitalize.json\n",
      "english-german.json\n",
      "word_length.json\n",
      "country-capital.json\n",
      "synonym.json\n",
      "next_item.json\n",
      "english-french.json\n",
      "singular-plural.json\n",
      "english-spanish.json\n",
      "present-past.json\n",
      "model_name=standard\n",
      "scale_mode=dp\n",
      "pca_mode=task\n",
      "n components=2\n",
      "10000\n",
      "Resuming training from out_small_adam\n"
     ]
    },
    {
     "name": "stderr",
     "output_type": "stream",
     "text": [
      "/Users/ziming/opt/anaconda3/lib/python3.9/site-packages/torch/amp/autocast_mode.py:250: UserWarning: User provided device_type of 'cuda', but CUDA is not available. Disabling\n",
      "  warnings.warn(\n"
     ]
    },
    {
     "name": "stdout",
     "output_type": "stream",
     "text": [
      "number of parameters: 123.59M\n",
      "antonym.json\n",
      "prev_item.json\n",
      "capitalize.json\n",
      "english-german.json\n",
      "word_length.json\n",
      "country-capital.json\n",
      "synonym.json\n",
      "next_item.json\n",
      "english-french.json\n",
      "singular-plural.json\n",
      "english-spanish.json\n",
      "present-past.json\n",
      "model_name=standard\n",
      "scale_mode=dp\n",
      "pca_mode=task\n",
      "n components=5\n",
      "10000\n",
      "Resuming training from out_small_adam\n"
     ]
    },
    {
     "name": "stderr",
     "output_type": "stream",
     "text": [
      "/Users/ziming/opt/anaconda3/lib/python3.9/site-packages/torch/amp/autocast_mode.py:250: UserWarning: User provided device_type of 'cuda', but CUDA is not available. Disabling\n",
      "  warnings.warn(\n"
     ]
    },
    {
     "name": "stdout",
     "output_type": "stream",
     "text": [
      "number of parameters: 123.59M\n",
      "antonym.json\n",
      "prev_item.json\n",
      "capitalize.json\n",
      "english-german.json\n",
      "word_length.json\n",
      "country-capital.json\n",
      "synonym.json\n",
      "next_item.json\n",
      "english-french.json\n",
      "singular-plural.json\n",
      "english-spanish.json\n",
      "present-past.json\n",
      "model_name=standard\n",
      "scale_mode=dp\n",
      "pca_mode=task\n",
      "n components=10\n",
      "10000\n",
      "Resuming training from out_small_adam\n"
     ]
    },
    {
     "name": "stderr",
     "output_type": "stream",
     "text": [
      "/Users/ziming/opt/anaconda3/lib/python3.9/site-packages/torch/amp/autocast_mode.py:250: UserWarning: User provided device_type of 'cuda', but CUDA is not available. Disabling\n",
      "  warnings.warn(\n"
     ]
    },
    {
     "name": "stdout",
     "output_type": "stream",
     "text": [
      "number of parameters: 123.59M\n",
      "antonym.json\n",
      "prev_item.json\n",
      "capitalize.json\n",
      "english-german.json\n",
      "word_length.json\n",
      "country-capital.json\n",
      "synonym.json\n",
      "next_item.json\n",
      "english-french.json\n",
      "singular-plural.json\n",
      "english-spanish.json\n",
      "present-past.json\n",
      "model_name=standard\n",
      "scale_mode=dp\n",
      "pca_mode=task\n",
      "n components=100\n",
      "10000\n",
      "Resuming training from out_small_adam\n"
     ]
    },
    {
     "name": "stderr",
     "output_type": "stream",
     "text": [
      "/Users/ziming/opt/anaconda3/lib/python3.9/site-packages/torch/amp/autocast_mode.py:250: UserWarning: User provided device_type of 'cuda', but CUDA is not available. Disabling\n",
      "  warnings.warn(\n"
     ]
    },
    {
     "name": "stdout",
     "output_type": "stream",
     "text": [
      "number of parameters: 123.59M\n",
      "antonym.json\n",
      "prev_item.json\n",
      "capitalize.json\n",
      "english-german.json\n",
      "word_length.json\n",
      "country-capital.json\n",
      "synonym.json\n",
      "next_item.json\n",
      "english-french.json\n",
      "singular-plural.json\n",
      "english-spanish.json\n",
      "present-past.json\n",
      "model_name=standard\n",
      "scale_mode=dp_0m\n",
      "pca_mode=all\n",
      "n components=2\n",
      "10000\n",
      "Resuming training from out_small_adam\n"
     ]
    },
    {
     "name": "stderr",
     "output_type": "stream",
     "text": [
      "/Users/ziming/opt/anaconda3/lib/python3.9/site-packages/torch/amp/autocast_mode.py:250: UserWarning: User provided device_type of 'cuda', but CUDA is not available. Disabling\n",
      "  warnings.warn(\n"
     ]
    },
    {
     "name": "stdout",
     "output_type": "stream",
     "text": [
      "number of parameters: 123.59M\n",
      "antonym.json\n"
     ]
    },
    {
     "name": "stderr",
     "output_type": "stream",
     "text": [
      "/var/folders/6j/b6y80djd4nb5hl73rv3sv8y80000gn/T/ipykernel_52550/1434473628.py:350: RuntimeWarning: invalid value encountered in scalar divide\n",
      "  score = np.linalg.norm(embds[0] + embds[3] - (embds[1] + embds[2]))**2/scale\n"
     ]
    },
    {
     "name": "stdout",
     "output_type": "stream",
     "text": [
      "prev_item.json\n",
      "capitalize.json\n"
     ]
    },
    {
     "name": "stderr",
     "output_type": "stream",
     "text": [
      "/var/folders/6j/b6y80djd4nb5hl73rv3sv8y80000gn/T/ipykernel_52550/1434473628.py:350: RuntimeWarning: invalid value encountered in scalar divide\n",
      "  score = np.linalg.norm(embds[0] + embds[3] - (embds[1] + embds[2]))**2/scale\n"
     ]
    },
    {
     "name": "stdout",
     "output_type": "stream",
     "text": [
      "english-german.json\n",
      "word_length.json\n",
      "country-capital.json\n",
      "synonym.json\n",
      "next_item.json\n",
      "english-french.json\n",
      "singular-plural.json\n",
      "english-spanish.json\n",
      "present-past.json\n",
      "model_name=standard\n",
      "scale_mode=dp_0m\n",
      "pca_mode=all\n",
      "n components=5\n",
      "10000\n",
      "Resuming training from out_small_adam\n"
     ]
    },
    {
     "name": "stderr",
     "output_type": "stream",
     "text": [
      "/Users/ziming/opt/anaconda3/lib/python3.9/site-packages/torch/amp/autocast_mode.py:250: UserWarning: User provided device_type of 'cuda', but CUDA is not available. Disabling\n",
      "  warnings.warn(\n"
     ]
    },
    {
     "name": "stdout",
     "output_type": "stream",
     "text": [
      "number of parameters: 123.59M\n",
      "antonym.json\n"
     ]
    },
    {
     "name": "stderr",
     "output_type": "stream",
     "text": [
      "/var/folders/6j/b6y80djd4nb5hl73rv3sv8y80000gn/T/ipykernel_52550/1434473628.py:350: RuntimeWarning: invalid value encountered in scalar divide\n",
      "  score = np.linalg.norm(embds[0] + embds[3] - (embds[1] + embds[2]))**2/scale\n"
     ]
    },
    {
     "name": "stdout",
     "output_type": "stream",
     "text": [
      "prev_item.json\n",
      "capitalize.json\n"
     ]
    },
    {
     "name": "stderr",
     "output_type": "stream",
     "text": [
      "/var/folders/6j/b6y80djd4nb5hl73rv3sv8y80000gn/T/ipykernel_52550/1434473628.py:350: RuntimeWarning: invalid value encountered in scalar divide\n",
      "  score = np.linalg.norm(embds[0] + embds[3] - (embds[1] + embds[2]))**2/scale\n"
     ]
    },
    {
     "name": "stdout",
     "output_type": "stream",
     "text": [
      "english-german.json\n",
      "word_length.json\n",
      "country-capital.json\n",
      "synonym.json\n",
      "next_item.json\n",
      "english-french.json\n",
      "singular-plural.json\n",
      "english-spanish.json\n",
      "present-past.json\n",
      "model_name=standard\n",
      "scale_mode=dp_0m\n",
      "pca_mode=all\n",
      "n components=10\n",
      "10000\n",
      "Resuming training from out_small_adam\n"
     ]
    },
    {
     "name": "stderr",
     "output_type": "stream",
     "text": [
      "/Users/ziming/opt/anaconda3/lib/python3.9/site-packages/torch/amp/autocast_mode.py:250: UserWarning: User provided device_type of 'cuda', but CUDA is not available. Disabling\n",
      "  warnings.warn(\n"
     ]
    },
    {
     "name": "stdout",
     "output_type": "stream",
     "text": [
      "number of parameters: 123.59M\n",
      "antonym.json\n"
     ]
    },
    {
     "name": "stderr",
     "output_type": "stream",
     "text": [
      "/var/folders/6j/b6y80djd4nb5hl73rv3sv8y80000gn/T/ipykernel_52550/1434473628.py:350: RuntimeWarning: invalid value encountered in scalar divide\n",
      "  score = np.linalg.norm(embds[0] + embds[3] - (embds[1] + embds[2]))**2/scale\n"
     ]
    },
    {
     "name": "stdout",
     "output_type": "stream",
     "text": [
      "prev_item.json\n",
      "capitalize.json\n"
     ]
    },
    {
     "name": "stderr",
     "output_type": "stream",
     "text": [
      "/var/folders/6j/b6y80djd4nb5hl73rv3sv8y80000gn/T/ipykernel_52550/1434473628.py:350: RuntimeWarning: invalid value encountered in scalar divide\n",
      "  score = np.linalg.norm(embds[0] + embds[3] - (embds[1] + embds[2]))**2/scale\n"
     ]
    },
    {
     "name": "stdout",
     "output_type": "stream",
     "text": [
      "english-german.json\n",
      "word_length.json\n",
      "country-capital.json\n",
      "synonym.json\n",
      "next_item.json\n",
      "english-french.json\n",
      "singular-plural.json\n",
      "english-spanish.json\n",
      "present-past.json\n",
      "model_name=standard\n",
      "scale_mode=dp_0m\n",
      "pca_mode=all\n",
      "n components=100\n",
      "10000\n",
      "Resuming training from out_small_adam\n"
     ]
    },
    {
     "name": "stderr",
     "output_type": "stream",
     "text": [
      "/Users/ziming/opt/anaconda3/lib/python3.9/site-packages/torch/amp/autocast_mode.py:250: UserWarning: User provided device_type of 'cuda', but CUDA is not available. Disabling\n",
      "  warnings.warn(\n"
     ]
    },
    {
     "name": "stdout",
     "output_type": "stream",
     "text": [
      "number of parameters: 123.59M\n",
      "antonym.json\n"
     ]
    },
    {
     "name": "stderr",
     "output_type": "stream",
     "text": [
      "/var/folders/6j/b6y80djd4nb5hl73rv3sv8y80000gn/T/ipykernel_52550/1434473628.py:350: RuntimeWarning: invalid value encountered in scalar divide\n",
      "  score = np.linalg.norm(embds[0] + embds[3] - (embds[1] + embds[2]))**2/scale\n"
     ]
    },
    {
     "name": "stdout",
     "output_type": "stream",
     "text": [
      "prev_item.json\n",
      "capitalize.json\n"
     ]
    },
    {
     "name": "stderr",
     "output_type": "stream",
     "text": [
      "/var/folders/6j/b6y80djd4nb5hl73rv3sv8y80000gn/T/ipykernel_52550/1434473628.py:350: RuntimeWarning: invalid value encountered in scalar divide\n",
      "  score = np.linalg.norm(embds[0] + embds[3] - (embds[1] + embds[2]))**2/scale\n"
     ]
    },
    {
     "name": "stdout",
     "output_type": "stream",
     "text": [
      "english-german.json\n",
      "word_length.json\n",
      "country-capital.json\n",
      "synonym.json\n",
      "next_item.json\n",
      "english-french.json\n",
      "singular-plural.json\n",
      "english-spanish.json\n",
      "present-past.json\n",
      "model_name=standard\n",
      "scale_mode=dp_0m\n",
      "pca_mode=task\n",
      "n components=2\n",
      "10000\n",
      "Resuming training from out_small_adam\n"
     ]
    },
    {
     "name": "stderr",
     "output_type": "stream",
     "text": [
      "/Users/ziming/opt/anaconda3/lib/python3.9/site-packages/torch/amp/autocast_mode.py:250: UserWarning: User provided device_type of 'cuda', but CUDA is not available. Disabling\n",
      "  warnings.warn(\n"
     ]
    },
    {
     "name": "stdout",
     "output_type": "stream",
     "text": [
      "number of parameters: 123.59M\n",
      "antonym.json\n"
     ]
    },
    {
     "name": "stderr",
     "output_type": "stream",
     "text": [
      "/var/folders/6j/b6y80djd4nb5hl73rv3sv8y80000gn/T/ipykernel_52550/1434473628.py:350: RuntimeWarning: invalid value encountered in scalar divide\n",
      "  score = np.linalg.norm(embds[0] + embds[3] - (embds[1] + embds[2]))**2/scale\n"
     ]
    },
    {
     "name": "stdout",
     "output_type": "stream",
     "text": [
      "prev_item.json\n",
      "capitalize.json\n"
     ]
    },
    {
     "name": "stderr",
     "output_type": "stream",
     "text": [
      "/var/folders/6j/b6y80djd4nb5hl73rv3sv8y80000gn/T/ipykernel_52550/1434473628.py:350: RuntimeWarning: invalid value encountered in scalar divide\n",
      "  score = np.linalg.norm(embds[0] + embds[3] - (embds[1] + embds[2]))**2/scale\n"
     ]
    },
    {
     "name": "stdout",
     "output_type": "stream",
     "text": [
      "english-german.json\n",
      "word_length.json\n",
      "country-capital.json\n",
      "synonym.json\n",
      "next_item.json\n",
      "english-french.json\n",
      "singular-plural.json\n",
      "english-spanish.json\n",
      "present-past.json\n",
      "model_name=standard\n",
      "scale_mode=dp_0m\n",
      "pca_mode=task\n",
      "n components=5\n",
      "10000\n",
      "Resuming training from out_small_adam\n"
     ]
    },
    {
     "name": "stderr",
     "output_type": "stream",
     "text": [
      "/Users/ziming/opt/anaconda3/lib/python3.9/site-packages/torch/amp/autocast_mode.py:250: UserWarning: User provided device_type of 'cuda', but CUDA is not available. Disabling\n",
      "  warnings.warn(\n"
     ]
    },
    {
     "name": "stdout",
     "output_type": "stream",
     "text": [
      "number of parameters: 123.59M\n",
      "antonym.json\n"
     ]
    },
    {
     "name": "stderr",
     "output_type": "stream",
     "text": [
      "/var/folders/6j/b6y80djd4nb5hl73rv3sv8y80000gn/T/ipykernel_52550/1434473628.py:350: RuntimeWarning: invalid value encountered in scalar divide\n",
      "  score = np.linalg.norm(embds[0] + embds[3] - (embds[1] + embds[2]))**2/scale\n"
     ]
    },
    {
     "name": "stdout",
     "output_type": "stream",
     "text": [
      "prev_item.json\n",
      "capitalize.json\n"
     ]
    },
    {
     "name": "stderr",
     "output_type": "stream",
     "text": [
      "/var/folders/6j/b6y80djd4nb5hl73rv3sv8y80000gn/T/ipykernel_52550/1434473628.py:350: RuntimeWarning: invalid value encountered in scalar divide\n",
      "  score = np.linalg.norm(embds[0] + embds[3] - (embds[1] + embds[2]))**2/scale\n"
     ]
    },
    {
     "name": "stdout",
     "output_type": "stream",
     "text": [
      "english-german.json\n",
      "word_length.json\n",
      "country-capital.json\n",
      "synonym.json\n",
      "next_item.json\n",
      "english-french.json\n",
      "singular-plural.json\n",
      "english-spanish.json\n",
      "present-past.json\n",
      "model_name=standard\n",
      "scale_mode=dp_0m\n",
      "pca_mode=task\n",
      "n components=10\n",
      "10000\n",
      "Resuming training from out_small_adam\n"
     ]
    },
    {
     "name": "stderr",
     "output_type": "stream",
     "text": [
      "/Users/ziming/opt/anaconda3/lib/python3.9/site-packages/torch/amp/autocast_mode.py:250: UserWarning: User provided device_type of 'cuda', but CUDA is not available. Disabling\n",
      "  warnings.warn(\n"
     ]
    },
    {
     "name": "stdout",
     "output_type": "stream",
     "text": [
      "number of parameters: 123.59M\n",
      "antonym.json\n"
     ]
    },
    {
     "name": "stderr",
     "output_type": "stream",
     "text": [
      "/var/folders/6j/b6y80djd4nb5hl73rv3sv8y80000gn/T/ipykernel_52550/1434473628.py:350: RuntimeWarning: invalid value encountered in scalar divide\n",
      "  score = np.linalg.norm(embds[0] + embds[3] - (embds[1] + embds[2]))**2/scale\n"
     ]
    },
    {
     "name": "stdout",
     "output_type": "stream",
     "text": [
      "prev_item.json\n",
      "capitalize.json\n"
     ]
    },
    {
     "name": "stderr",
     "output_type": "stream",
     "text": [
      "/var/folders/6j/b6y80djd4nb5hl73rv3sv8y80000gn/T/ipykernel_52550/1434473628.py:350: RuntimeWarning: invalid value encountered in scalar divide\n",
      "  score = np.linalg.norm(embds[0] + embds[3] - (embds[1] + embds[2]))**2/scale\n"
     ]
    },
    {
     "name": "stdout",
     "output_type": "stream",
     "text": [
      "english-german.json\n",
      "word_length.json\n",
      "country-capital.json\n",
      "synonym.json\n",
      "next_item.json\n",
      "english-french.json\n",
      "singular-plural.json\n",
      "english-spanish.json\n",
      "present-past.json\n",
      "model_name=standard\n",
      "scale_mode=dp_0m\n",
      "pca_mode=task\n",
      "n components=100\n",
      "10000\n",
      "Resuming training from out_small_adam\n"
     ]
    },
    {
     "name": "stderr",
     "output_type": "stream",
     "text": [
      "/Users/ziming/opt/anaconda3/lib/python3.9/site-packages/torch/amp/autocast_mode.py:250: UserWarning: User provided device_type of 'cuda', but CUDA is not available. Disabling\n",
      "  warnings.warn(\n"
     ]
    },
    {
     "name": "stdout",
     "output_type": "stream",
     "text": [
      "number of parameters: 123.59M\n",
      "antonym.json\n"
     ]
    },
    {
     "name": "stderr",
     "output_type": "stream",
     "text": [
      "/var/folders/6j/b6y80djd4nb5hl73rv3sv8y80000gn/T/ipykernel_52550/1434473628.py:350: RuntimeWarning: invalid value encountered in scalar divide\n",
      "  score = np.linalg.norm(embds[0] + embds[3] - (embds[1] + embds[2]))**2/scale\n"
     ]
    },
    {
     "name": "stdout",
     "output_type": "stream",
     "text": [
      "prev_item.json\n",
      "capitalize.json\n"
     ]
    },
    {
     "name": "stderr",
     "output_type": "stream",
     "text": [
      "/var/folders/6j/b6y80djd4nb5hl73rv3sv8y80000gn/T/ipykernel_52550/1434473628.py:350: RuntimeWarning: invalid value encountered in scalar divide\n",
      "  score = np.linalg.norm(embds[0] + embds[3] - (embds[1] + embds[2]))**2/scale\n"
     ]
    },
    {
     "name": "stdout",
     "output_type": "stream",
     "text": [
      "english-german.json\n",
      "word_length.json\n",
      "country-capital.json\n",
      "synonym.json\n",
      "next_item.json\n",
      "english-french.json\n",
      "singular-plural.json\n",
      "english-spanish.json\n",
      "present-past.json\n",
      "model_name=harmonic\n",
      "scale_mode=all\n",
      "pca_mode=all\n",
      "n components=2\n",
      "10000\n",
      "Resuming training from out_small_adam_hm\n"
     ]
    },
    {
     "name": "stderr",
     "output_type": "stream",
     "text": [
      "/Users/ziming/opt/anaconda3/lib/python3.9/site-packages/torch/amp/autocast_mode.py:250: UserWarning: User provided device_type of 'cuda', but CUDA is not available. Disabling\n",
      "  warnings.warn(\n"
     ]
    },
    {
     "name": "stdout",
     "output_type": "stream",
     "text": [
      "number of parameters: 123.59M\n",
      "antonym.json\n",
      "prev_item.json\n",
      "capitalize.json\n",
      "english-german.json\n",
      "word_length.json\n",
      "country-capital.json\n",
      "synonym.json\n",
      "next_item.json\n",
      "english-french.json\n",
      "singular-plural.json\n",
      "english-spanish.json\n",
      "present-past.json\n",
      "model_name=harmonic\n",
      "scale_mode=all\n",
      "pca_mode=all\n",
      "n components=5\n",
      "10000\n",
      "Resuming training from out_small_adam_hm\n"
     ]
    },
    {
     "name": "stderr",
     "output_type": "stream",
     "text": [
      "/Users/ziming/opt/anaconda3/lib/python3.9/site-packages/torch/amp/autocast_mode.py:250: UserWarning: User provided device_type of 'cuda', but CUDA is not available. Disabling\n",
      "  warnings.warn(\n"
     ]
    },
    {
     "name": "stdout",
     "output_type": "stream",
     "text": [
      "number of parameters: 123.59M\n",
      "antonym.json\n",
      "prev_item.json\n",
      "capitalize.json\n",
      "english-german.json\n",
      "word_length.json\n",
      "country-capital.json\n",
      "synonym.json\n",
      "next_item.json\n",
      "english-french.json\n",
      "singular-plural.json\n",
      "english-spanish.json\n",
      "present-past.json\n",
      "model_name=harmonic\n",
      "scale_mode=all\n",
      "pca_mode=all\n",
      "n components=10\n",
      "10000\n",
      "Resuming training from out_small_adam_hm\n"
     ]
    },
    {
     "name": "stderr",
     "output_type": "stream",
     "text": [
      "/Users/ziming/opt/anaconda3/lib/python3.9/site-packages/torch/amp/autocast_mode.py:250: UserWarning: User provided device_type of 'cuda', but CUDA is not available. Disabling\n",
      "  warnings.warn(\n"
     ]
    },
    {
     "name": "stdout",
     "output_type": "stream",
     "text": [
      "number of parameters: 123.59M\n",
      "antonym.json\n",
      "prev_item.json\n",
      "capitalize.json\n",
      "english-german.json\n",
      "word_length.json\n",
      "country-capital.json\n",
      "synonym.json\n",
      "next_item.json\n",
      "english-french.json\n",
      "singular-plural.json\n",
      "english-spanish.json\n",
      "present-past.json\n",
      "model_name=harmonic\n",
      "scale_mode=all\n",
      "pca_mode=all\n",
      "n components=100\n",
      "10000\n",
      "Resuming training from out_small_adam_hm\n"
     ]
    },
    {
     "name": "stderr",
     "output_type": "stream",
     "text": [
      "/Users/ziming/opt/anaconda3/lib/python3.9/site-packages/torch/amp/autocast_mode.py:250: UserWarning: User provided device_type of 'cuda', but CUDA is not available. Disabling\n",
      "  warnings.warn(\n"
     ]
    },
    {
     "name": "stdout",
     "output_type": "stream",
     "text": [
      "number of parameters: 123.59M\n",
      "antonym.json\n",
      "prev_item.json\n",
      "capitalize.json\n",
      "english-german.json\n",
      "word_length.json\n",
      "country-capital.json\n",
      "synonym.json\n",
      "next_item.json\n",
      "english-french.json\n",
      "singular-plural.json\n",
      "english-spanish.json\n",
      "present-past.json\n",
      "model_name=harmonic\n",
      "scale_mode=all\n",
      "pca_mode=task\n",
      "n components=2\n",
      "10000\n",
      "Resuming training from out_small_adam_hm\n"
     ]
    },
    {
     "name": "stderr",
     "output_type": "stream",
     "text": [
      "/Users/ziming/opt/anaconda3/lib/python3.9/site-packages/torch/amp/autocast_mode.py:250: UserWarning: User provided device_type of 'cuda', but CUDA is not available. Disabling\n",
      "  warnings.warn(\n"
     ]
    },
    {
     "name": "stdout",
     "output_type": "stream",
     "text": [
      "number of parameters: 123.59M\n",
      "antonym.json\n",
      "prev_item.json\n",
      "capitalize.json\n",
      "english-german.json\n",
      "word_length.json\n",
      "country-capital.json\n",
      "synonym.json\n",
      "next_item.json\n",
      "english-french.json\n",
      "singular-plural.json\n",
      "english-spanish.json\n",
      "present-past.json\n",
      "model_name=harmonic\n",
      "scale_mode=all\n",
      "pca_mode=task\n",
      "n components=5\n",
      "10000\n",
      "Resuming training from out_small_adam_hm\n"
     ]
    },
    {
     "name": "stderr",
     "output_type": "stream",
     "text": [
      "/Users/ziming/opt/anaconda3/lib/python3.9/site-packages/torch/amp/autocast_mode.py:250: UserWarning: User provided device_type of 'cuda', but CUDA is not available. Disabling\n",
      "  warnings.warn(\n"
     ]
    },
    {
     "name": "stdout",
     "output_type": "stream",
     "text": [
      "number of parameters: 123.59M\n",
      "antonym.json\n",
      "prev_item.json\n",
      "capitalize.json\n",
      "english-german.json\n",
      "word_length.json\n",
      "country-capital.json\n",
      "synonym.json\n",
      "next_item.json\n",
      "english-french.json\n",
      "singular-plural.json\n",
      "english-spanish.json\n",
      "present-past.json\n",
      "model_name=harmonic\n",
      "scale_mode=all\n",
      "pca_mode=task\n",
      "n components=10\n",
      "10000\n",
      "Resuming training from out_small_adam_hm\n"
     ]
    },
    {
     "name": "stderr",
     "output_type": "stream",
     "text": [
      "/Users/ziming/opt/anaconda3/lib/python3.9/site-packages/torch/amp/autocast_mode.py:250: UserWarning: User provided device_type of 'cuda', but CUDA is not available. Disabling\n",
      "  warnings.warn(\n"
     ]
    },
    {
     "name": "stdout",
     "output_type": "stream",
     "text": [
      "number of parameters: 123.59M\n",
      "antonym.json\n",
      "prev_item.json\n",
      "capitalize.json\n",
      "english-german.json\n",
      "word_length.json\n",
      "country-capital.json\n",
      "synonym.json\n",
      "next_item.json\n",
      "english-french.json\n",
      "singular-plural.json\n",
      "english-spanish.json\n",
      "present-past.json\n",
      "model_name=harmonic\n",
      "scale_mode=all\n",
      "pca_mode=task\n",
      "n components=100\n",
      "10000\n",
      "Resuming training from out_small_adam_hm\n"
     ]
    },
    {
     "name": "stderr",
     "output_type": "stream",
     "text": [
      "/Users/ziming/opt/anaconda3/lib/python3.9/site-packages/torch/amp/autocast_mode.py:250: UserWarning: User provided device_type of 'cuda', but CUDA is not available. Disabling\n",
      "  warnings.warn(\n"
     ]
    },
    {
     "name": "stdout",
     "output_type": "stream",
     "text": [
      "number of parameters: 123.59M\n",
      "antonym.json\n",
      "prev_item.json\n",
      "capitalize.json\n",
      "english-german.json\n",
      "word_length.json\n",
      "country-capital.json\n",
      "synonym.json\n",
      "next_item.json\n",
      "english-french.json\n",
      "singular-plural.json\n",
      "english-spanish.json\n",
      "present-past.json\n",
      "model_name=harmonic\n",
      "scale_mode=task\n",
      "pca_mode=all\n",
      "n components=2\n",
      "10000\n",
      "Resuming training from out_small_adam_hm\n"
     ]
    },
    {
     "name": "stderr",
     "output_type": "stream",
     "text": [
      "/Users/ziming/opt/anaconda3/lib/python3.9/site-packages/torch/amp/autocast_mode.py:250: UserWarning: User provided device_type of 'cuda', but CUDA is not available. Disabling\n",
      "  warnings.warn(\n"
     ]
    },
    {
     "name": "stdout",
     "output_type": "stream",
     "text": [
      "number of parameters: 123.59M\n",
      "antonym.json\n",
      "prev_item.json\n",
      "capitalize.json\n",
      "english-german.json\n",
      "word_length.json\n",
      "country-capital.json\n",
      "synonym.json\n",
      "next_item.json\n",
      "english-french.json\n",
      "singular-plural.json\n",
      "english-spanish.json\n",
      "present-past.json\n",
      "model_name=harmonic\n",
      "scale_mode=task\n",
      "pca_mode=all\n",
      "n components=5\n",
      "10000\n",
      "Resuming training from out_small_adam_hm\n"
     ]
    },
    {
     "name": "stderr",
     "output_type": "stream",
     "text": [
      "/Users/ziming/opt/anaconda3/lib/python3.9/site-packages/torch/amp/autocast_mode.py:250: UserWarning: User provided device_type of 'cuda', but CUDA is not available. Disabling\n",
      "  warnings.warn(\n"
     ]
    },
    {
     "name": "stdout",
     "output_type": "stream",
     "text": [
      "number of parameters: 123.59M\n",
      "antonym.json\n",
      "prev_item.json\n",
      "capitalize.json\n",
      "english-german.json\n",
      "word_length.json\n",
      "country-capital.json\n",
      "synonym.json\n",
      "next_item.json\n",
      "english-french.json\n",
      "singular-plural.json\n",
      "english-spanish.json\n",
      "present-past.json\n",
      "model_name=harmonic\n",
      "scale_mode=task\n",
      "pca_mode=all\n",
      "n components=10\n",
      "10000\n",
      "Resuming training from out_small_adam_hm\n"
     ]
    },
    {
     "name": "stderr",
     "output_type": "stream",
     "text": [
      "/Users/ziming/opt/anaconda3/lib/python3.9/site-packages/torch/amp/autocast_mode.py:250: UserWarning: User provided device_type of 'cuda', but CUDA is not available. Disabling\n",
      "  warnings.warn(\n"
     ]
    },
    {
     "name": "stdout",
     "output_type": "stream",
     "text": [
      "number of parameters: 123.59M\n",
      "antonym.json\n",
      "prev_item.json\n",
      "capitalize.json\n",
      "english-german.json\n",
      "word_length.json\n",
      "country-capital.json\n",
      "synonym.json\n",
      "next_item.json\n",
      "english-french.json\n",
      "singular-plural.json\n",
      "english-spanish.json\n",
      "present-past.json\n",
      "model_name=harmonic\n",
      "scale_mode=task\n",
      "pca_mode=all\n",
      "n components=100\n",
      "10000\n",
      "Resuming training from out_small_adam_hm\n"
     ]
    },
    {
     "name": "stderr",
     "output_type": "stream",
     "text": [
      "/Users/ziming/opt/anaconda3/lib/python3.9/site-packages/torch/amp/autocast_mode.py:250: UserWarning: User provided device_type of 'cuda', but CUDA is not available. Disabling\n",
      "  warnings.warn(\n"
     ]
    },
    {
     "name": "stdout",
     "output_type": "stream",
     "text": [
      "number of parameters: 123.59M\n",
      "antonym.json\n",
      "prev_item.json\n",
      "capitalize.json\n",
      "english-german.json\n",
      "word_length.json\n",
      "country-capital.json\n",
      "synonym.json\n",
      "next_item.json\n",
      "english-french.json\n",
      "singular-plural.json\n",
      "english-spanish.json\n",
      "present-past.json\n",
      "model_name=harmonic\n",
      "scale_mode=task\n",
      "pca_mode=task\n",
      "n components=2\n",
      "10000\n",
      "Resuming training from out_small_adam_hm\n"
     ]
    },
    {
     "name": "stderr",
     "output_type": "stream",
     "text": [
      "/Users/ziming/opt/anaconda3/lib/python3.9/site-packages/torch/amp/autocast_mode.py:250: UserWarning: User provided device_type of 'cuda', but CUDA is not available. Disabling\n",
      "  warnings.warn(\n"
     ]
    },
    {
     "name": "stdout",
     "output_type": "stream",
     "text": [
      "number of parameters: 123.59M\n",
      "antonym.json\n",
      "prev_item.json\n",
      "capitalize.json\n",
      "english-german.json\n",
      "word_length.json\n",
      "country-capital.json\n",
      "synonym.json\n",
      "next_item.json\n",
      "english-french.json\n",
      "singular-plural.json\n",
      "english-spanish.json\n",
      "present-past.json\n",
      "model_name=harmonic\n",
      "scale_mode=task\n",
      "pca_mode=task\n",
      "n components=5\n",
      "10000\n",
      "Resuming training from out_small_adam_hm\n"
     ]
    },
    {
     "name": "stderr",
     "output_type": "stream",
     "text": [
      "/Users/ziming/opt/anaconda3/lib/python3.9/site-packages/torch/amp/autocast_mode.py:250: UserWarning: User provided device_type of 'cuda', but CUDA is not available. Disabling\n",
      "  warnings.warn(\n"
     ]
    },
    {
     "name": "stdout",
     "output_type": "stream",
     "text": [
      "number of parameters: 123.59M\n",
      "antonym.json\n",
      "prev_item.json\n",
      "capitalize.json\n",
      "english-german.json\n",
      "word_length.json\n",
      "country-capital.json\n",
      "synonym.json\n",
      "next_item.json\n",
      "english-french.json\n",
      "singular-plural.json\n",
      "english-spanish.json\n",
      "present-past.json\n",
      "model_name=harmonic\n",
      "scale_mode=task\n",
      "pca_mode=task\n",
      "n components=10\n",
      "10000\n",
      "Resuming training from out_small_adam_hm\n"
     ]
    },
    {
     "name": "stderr",
     "output_type": "stream",
     "text": [
      "/Users/ziming/opt/anaconda3/lib/python3.9/site-packages/torch/amp/autocast_mode.py:250: UserWarning: User provided device_type of 'cuda', but CUDA is not available. Disabling\n",
      "  warnings.warn(\n"
     ]
    },
    {
     "name": "stdout",
     "output_type": "stream",
     "text": [
      "number of parameters: 123.59M\n",
      "antonym.json\n",
      "prev_item.json\n",
      "capitalize.json\n",
      "english-german.json\n",
      "word_length.json\n",
      "country-capital.json\n",
      "synonym.json\n",
      "next_item.json\n",
      "english-french.json\n",
      "singular-plural.json\n",
      "english-spanish.json\n",
      "present-past.json\n",
      "model_name=harmonic\n",
      "scale_mode=task\n",
      "pca_mode=task\n",
      "n components=100\n",
      "10000\n",
      "Resuming training from out_small_adam_hm\n"
     ]
    },
    {
     "name": "stderr",
     "output_type": "stream",
     "text": [
      "/Users/ziming/opt/anaconda3/lib/python3.9/site-packages/torch/amp/autocast_mode.py:250: UserWarning: User provided device_type of 'cuda', but CUDA is not available. Disabling\n",
      "  warnings.warn(\n"
     ]
    },
    {
     "name": "stdout",
     "output_type": "stream",
     "text": [
      "number of parameters: 123.59M\n",
      "antonym.json\n",
      "prev_item.json\n",
      "capitalize.json\n",
      "english-german.json\n",
      "word_length.json\n",
      "country-capital.json\n",
      "synonym.json\n",
      "next_item.json\n",
      "english-french.json\n",
      "singular-plural.json\n",
      "english-spanish.json\n",
      "present-past.json\n",
      "model_name=harmonic\n",
      "scale_mode=dp\n",
      "pca_mode=all\n",
      "n components=2\n",
      "10000\n",
      "Resuming training from out_small_adam_hm\n"
     ]
    },
    {
     "name": "stderr",
     "output_type": "stream",
     "text": [
      "/Users/ziming/opt/anaconda3/lib/python3.9/site-packages/torch/amp/autocast_mode.py:250: UserWarning: User provided device_type of 'cuda', but CUDA is not available. Disabling\n",
      "  warnings.warn(\n"
     ]
    },
    {
     "name": "stdout",
     "output_type": "stream",
     "text": [
      "number of parameters: 123.59M\n",
      "antonym.json\n",
      "prev_item.json\n",
      "capitalize.json\n",
      "english-german.json\n",
      "word_length.json\n",
      "country-capital.json\n",
      "synonym.json\n",
      "next_item.json\n",
      "english-french.json\n",
      "singular-plural.json\n",
      "english-spanish.json\n",
      "present-past.json\n",
      "model_name=harmonic\n",
      "scale_mode=dp\n",
      "pca_mode=all\n",
      "n components=5\n",
      "10000\n",
      "Resuming training from out_small_adam_hm\n"
     ]
    },
    {
     "name": "stderr",
     "output_type": "stream",
     "text": [
      "/Users/ziming/opt/anaconda3/lib/python3.9/site-packages/torch/amp/autocast_mode.py:250: UserWarning: User provided device_type of 'cuda', but CUDA is not available. Disabling\n",
      "  warnings.warn(\n"
     ]
    },
    {
     "name": "stdout",
     "output_type": "stream",
     "text": [
      "number of parameters: 123.59M\n",
      "antonym.json\n",
      "prev_item.json\n",
      "capitalize.json\n",
      "english-german.json\n",
      "word_length.json\n",
      "country-capital.json\n",
      "synonym.json\n",
      "next_item.json\n",
      "english-french.json\n",
      "singular-plural.json\n",
      "english-spanish.json\n",
      "present-past.json\n",
      "model_name=harmonic\n",
      "scale_mode=dp\n",
      "pca_mode=all\n",
      "n components=10\n",
      "10000\n",
      "Resuming training from out_small_adam_hm\n"
     ]
    },
    {
     "name": "stderr",
     "output_type": "stream",
     "text": [
      "/Users/ziming/opt/anaconda3/lib/python3.9/site-packages/torch/amp/autocast_mode.py:250: UserWarning: User provided device_type of 'cuda', but CUDA is not available. Disabling\n",
      "  warnings.warn(\n"
     ]
    },
    {
     "name": "stdout",
     "output_type": "stream",
     "text": [
      "number of parameters: 123.59M\n",
      "antonym.json\n",
      "prev_item.json\n",
      "capitalize.json\n",
      "english-german.json\n",
      "word_length.json\n",
      "country-capital.json\n",
      "synonym.json\n",
      "next_item.json\n",
      "english-french.json\n",
      "singular-plural.json\n",
      "english-spanish.json\n",
      "present-past.json\n",
      "model_name=harmonic\n",
      "scale_mode=dp\n",
      "pca_mode=all\n",
      "n components=100\n",
      "10000\n",
      "Resuming training from out_small_adam_hm\n"
     ]
    },
    {
     "name": "stderr",
     "output_type": "stream",
     "text": [
      "/Users/ziming/opt/anaconda3/lib/python3.9/site-packages/torch/amp/autocast_mode.py:250: UserWarning: User provided device_type of 'cuda', but CUDA is not available. Disabling\n",
      "  warnings.warn(\n"
     ]
    },
    {
     "name": "stdout",
     "output_type": "stream",
     "text": [
      "number of parameters: 123.59M\n",
      "antonym.json\n",
      "prev_item.json\n",
      "capitalize.json\n",
      "english-german.json\n",
      "word_length.json\n",
      "country-capital.json\n",
      "synonym.json\n",
      "next_item.json\n",
      "english-french.json\n",
      "singular-plural.json\n",
      "english-spanish.json\n",
      "present-past.json\n",
      "model_name=harmonic\n",
      "scale_mode=dp\n",
      "pca_mode=task\n",
      "n components=2\n",
      "10000\n",
      "Resuming training from out_small_adam_hm\n"
     ]
    },
    {
     "name": "stderr",
     "output_type": "stream",
     "text": [
      "/Users/ziming/opt/anaconda3/lib/python3.9/site-packages/torch/amp/autocast_mode.py:250: UserWarning: User provided device_type of 'cuda', but CUDA is not available. Disabling\n",
      "  warnings.warn(\n"
     ]
    },
    {
     "name": "stdout",
     "output_type": "stream",
     "text": [
      "number of parameters: 123.59M\n",
      "antonym.json\n",
      "prev_item.json\n",
      "capitalize.json\n",
      "english-german.json\n",
      "word_length.json\n",
      "country-capital.json\n",
      "synonym.json\n",
      "next_item.json\n",
      "english-french.json\n",
      "singular-plural.json\n",
      "english-spanish.json\n",
      "present-past.json\n",
      "model_name=harmonic\n",
      "scale_mode=dp\n",
      "pca_mode=task\n",
      "n components=5\n",
      "10000\n",
      "Resuming training from out_small_adam_hm\n"
     ]
    },
    {
     "name": "stderr",
     "output_type": "stream",
     "text": [
      "/Users/ziming/opt/anaconda3/lib/python3.9/site-packages/torch/amp/autocast_mode.py:250: UserWarning: User provided device_type of 'cuda', but CUDA is not available. Disabling\n",
      "  warnings.warn(\n"
     ]
    },
    {
     "name": "stdout",
     "output_type": "stream",
     "text": [
      "number of parameters: 123.59M\n",
      "antonym.json\n",
      "prev_item.json\n",
      "capitalize.json\n",
      "english-german.json\n",
      "word_length.json\n",
      "country-capital.json\n",
      "synonym.json\n",
      "next_item.json\n",
      "english-french.json\n",
      "singular-plural.json\n",
      "english-spanish.json\n",
      "present-past.json\n",
      "model_name=harmonic\n",
      "scale_mode=dp\n",
      "pca_mode=task\n",
      "n components=10\n",
      "10000\n",
      "Resuming training from out_small_adam_hm\n"
     ]
    },
    {
     "name": "stderr",
     "output_type": "stream",
     "text": [
      "/Users/ziming/opt/anaconda3/lib/python3.9/site-packages/torch/amp/autocast_mode.py:250: UserWarning: User provided device_type of 'cuda', but CUDA is not available. Disabling\n",
      "  warnings.warn(\n"
     ]
    },
    {
     "name": "stdout",
     "output_type": "stream",
     "text": [
      "number of parameters: 123.59M\n",
      "antonym.json\n",
      "prev_item.json\n",
      "capitalize.json\n",
      "english-german.json\n",
      "word_length.json\n",
      "country-capital.json\n",
      "synonym.json\n",
      "next_item.json\n",
      "english-french.json\n",
      "singular-plural.json\n",
      "english-spanish.json\n",
      "present-past.json\n",
      "model_name=harmonic\n",
      "scale_mode=dp\n",
      "pca_mode=task\n",
      "n components=100\n",
      "10000\n",
      "Resuming training from out_small_adam_hm\n"
     ]
    },
    {
     "name": "stderr",
     "output_type": "stream",
     "text": [
      "/Users/ziming/opt/anaconda3/lib/python3.9/site-packages/torch/amp/autocast_mode.py:250: UserWarning: User provided device_type of 'cuda', but CUDA is not available. Disabling\n",
      "  warnings.warn(\n"
     ]
    },
    {
     "name": "stdout",
     "output_type": "stream",
     "text": [
      "number of parameters: 123.59M\n",
      "antonym.json\n",
      "prev_item.json\n",
      "capitalize.json\n",
      "english-german.json\n",
      "word_length.json\n",
      "country-capital.json\n",
      "synonym.json\n",
      "next_item.json\n",
      "english-french.json\n",
      "singular-plural.json\n",
      "english-spanish.json\n",
      "present-past.json\n",
      "model_name=harmonic\n",
      "scale_mode=dp_0m\n",
      "pca_mode=all\n",
      "n components=2\n",
      "10000\n",
      "Resuming training from out_small_adam_hm\n"
     ]
    },
    {
     "name": "stderr",
     "output_type": "stream",
     "text": [
      "/Users/ziming/opt/anaconda3/lib/python3.9/site-packages/torch/amp/autocast_mode.py:250: UserWarning: User provided device_type of 'cuda', but CUDA is not available. Disabling\n",
      "  warnings.warn(\n"
     ]
    },
    {
     "name": "stdout",
     "output_type": "stream",
     "text": [
      "number of parameters: 123.59M\n",
      "antonym.json\n"
     ]
    },
    {
     "name": "stderr",
     "output_type": "stream",
     "text": [
      "/var/folders/6j/b6y80djd4nb5hl73rv3sv8y80000gn/T/ipykernel_52550/1434473628.py:350: RuntimeWarning: invalid value encountered in scalar divide\n",
      "  score = np.linalg.norm(embds[0] + embds[3] - (embds[1] + embds[2]))**2/scale\n"
     ]
    },
    {
     "name": "stdout",
     "output_type": "stream",
     "text": [
      "prev_item.json\n",
      "capitalize.json\n"
     ]
    },
    {
     "name": "stderr",
     "output_type": "stream",
     "text": [
      "/var/folders/6j/b6y80djd4nb5hl73rv3sv8y80000gn/T/ipykernel_52550/1434473628.py:350: RuntimeWarning: invalid value encountered in scalar divide\n",
      "  score = np.linalg.norm(embds[0] + embds[3] - (embds[1] + embds[2]))**2/scale\n"
     ]
    },
    {
     "name": "stdout",
     "output_type": "stream",
     "text": [
      "english-german.json\n",
      "word_length.json\n",
      "country-capital.json\n",
      "synonym.json\n",
      "next_item.json\n",
      "english-french.json\n",
      "singular-plural.json\n",
      "english-spanish.json\n",
      "present-past.json\n",
      "model_name=harmonic\n",
      "scale_mode=dp_0m\n",
      "pca_mode=all\n",
      "n components=5\n",
      "10000\n",
      "Resuming training from out_small_adam_hm\n"
     ]
    },
    {
     "name": "stderr",
     "output_type": "stream",
     "text": [
      "/Users/ziming/opt/anaconda3/lib/python3.9/site-packages/torch/amp/autocast_mode.py:250: UserWarning: User provided device_type of 'cuda', but CUDA is not available. Disabling\n",
      "  warnings.warn(\n"
     ]
    },
    {
     "name": "stdout",
     "output_type": "stream",
     "text": [
      "number of parameters: 123.59M\n",
      "antonym.json\n"
     ]
    },
    {
     "name": "stderr",
     "output_type": "stream",
     "text": [
      "/var/folders/6j/b6y80djd4nb5hl73rv3sv8y80000gn/T/ipykernel_52550/1434473628.py:350: RuntimeWarning: invalid value encountered in scalar divide\n",
      "  score = np.linalg.norm(embds[0] + embds[3] - (embds[1] + embds[2]))**2/scale\n"
     ]
    },
    {
     "name": "stdout",
     "output_type": "stream",
     "text": [
      "prev_item.json\n",
      "capitalize.json\n"
     ]
    },
    {
     "name": "stderr",
     "output_type": "stream",
     "text": [
      "/var/folders/6j/b6y80djd4nb5hl73rv3sv8y80000gn/T/ipykernel_52550/1434473628.py:350: RuntimeWarning: invalid value encountered in scalar divide\n",
      "  score = np.linalg.norm(embds[0] + embds[3] - (embds[1] + embds[2]))**2/scale\n"
     ]
    },
    {
     "name": "stdout",
     "output_type": "stream",
     "text": [
      "english-german.json\n",
      "word_length.json\n",
      "country-capital.json\n",
      "synonym.json\n",
      "next_item.json\n",
      "english-french.json\n",
      "singular-plural.json\n",
      "english-spanish.json\n",
      "present-past.json\n",
      "model_name=harmonic\n",
      "scale_mode=dp_0m\n",
      "pca_mode=all\n",
      "n components=10\n",
      "10000\n",
      "Resuming training from out_small_adam_hm\n"
     ]
    },
    {
     "name": "stderr",
     "output_type": "stream",
     "text": [
      "/Users/ziming/opt/anaconda3/lib/python3.9/site-packages/torch/amp/autocast_mode.py:250: UserWarning: User provided device_type of 'cuda', but CUDA is not available. Disabling\n",
      "  warnings.warn(\n"
     ]
    },
    {
     "name": "stdout",
     "output_type": "stream",
     "text": [
      "number of parameters: 123.59M\n",
      "antonym.json\n"
     ]
    },
    {
     "name": "stderr",
     "output_type": "stream",
     "text": [
      "/var/folders/6j/b6y80djd4nb5hl73rv3sv8y80000gn/T/ipykernel_52550/1434473628.py:350: RuntimeWarning: invalid value encountered in scalar divide\n",
      "  score = np.linalg.norm(embds[0] + embds[3] - (embds[1] + embds[2]))**2/scale\n"
     ]
    },
    {
     "name": "stdout",
     "output_type": "stream",
     "text": [
      "prev_item.json\n",
      "capitalize.json\n"
     ]
    },
    {
     "name": "stderr",
     "output_type": "stream",
     "text": [
      "/var/folders/6j/b6y80djd4nb5hl73rv3sv8y80000gn/T/ipykernel_52550/1434473628.py:350: RuntimeWarning: invalid value encountered in scalar divide\n",
      "  score = np.linalg.norm(embds[0] + embds[3] - (embds[1] + embds[2]))**2/scale\n"
     ]
    },
    {
     "name": "stdout",
     "output_type": "stream",
     "text": [
      "english-german.json\n",
      "word_length.json\n",
      "country-capital.json\n",
      "synonym.json\n",
      "next_item.json\n",
      "english-french.json\n",
      "singular-plural.json\n",
      "english-spanish.json\n",
      "present-past.json\n",
      "model_name=harmonic\n",
      "scale_mode=dp_0m\n",
      "pca_mode=all\n",
      "n components=100\n",
      "10000\n",
      "Resuming training from out_small_adam_hm\n"
     ]
    },
    {
     "name": "stderr",
     "output_type": "stream",
     "text": [
      "/Users/ziming/opt/anaconda3/lib/python3.9/site-packages/torch/amp/autocast_mode.py:250: UserWarning: User provided device_type of 'cuda', but CUDA is not available. Disabling\n",
      "  warnings.warn(\n"
     ]
    },
    {
     "name": "stdout",
     "output_type": "stream",
     "text": [
      "number of parameters: 123.59M\n",
      "antonym.json\n"
     ]
    },
    {
     "name": "stderr",
     "output_type": "stream",
     "text": [
      "/var/folders/6j/b6y80djd4nb5hl73rv3sv8y80000gn/T/ipykernel_52550/1434473628.py:350: RuntimeWarning: invalid value encountered in scalar divide\n",
      "  score = np.linalg.norm(embds[0] + embds[3] - (embds[1] + embds[2]))**2/scale\n"
     ]
    },
    {
     "name": "stdout",
     "output_type": "stream",
     "text": [
      "prev_item.json\n",
      "capitalize.json\n"
     ]
    },
    {
     "name": "stderr",
     "output_type": "stream",
     "text": [
      "/var/folders/6j/b6y80djd4nb5hl73rv3sv8y80000gn/T/ipykernel_52550/1434473628.py:350: RuntimeWarning: invalid value encountered in scalar divide\n",
      "  score = np.linalg.norm(embds[0] + embds[3] - (embds[1] + embds[2]))**2/scale\n"
     ]
    },
    {
     "name": "stdout",
     "output_type": "stream",
     "text": [
      "english-german.json\n",
      "word_length.json\n",
      "country-capital.json\n",
      "synonym.json\n",
      "next_item.json\n",
      "english-french.json\n",
      "singular-plural.json\n",
      "english-spanish.json\n",
      "present-past.json\n",
      "model_name=harmonic\n",
      "scale_mode=dp_0m\n",
      "pca_mode=task\n",
      "n components=2\n",
      "10000\n",
      "Resuming training from out_small_adam_hm\n"
     ]
    },
    {
     "name": "stderr",
     "output_type": "stream",
     "text": [
      "/Users/ziming/opt/anaconda3/lib/python3.9/site-packages/torch/amp/autocast_mode.py:250: UserWarning: User provided device_type of 'cuda', but CUDA is not available. Disabling\n",
      "  warnings.warn(\n"
     ]
    },
    {
     "name": "stdout",
     "output_type": "stream",
     "text": [
      "number of parameters: 123.59M\n",
      "antonym.json\n"
     ]
    },
    {
     "name": "stderr",
     "output_type": "stream",
     "text": [
      "/var/folders/6j/b6y80djd4nb5hl73rv3sv8y80000gn/T/ipykernel_52550/1434473628.py:350: RuntimeWarning: invalid value encountered in scalar divide\n",
      "  score = np.linalg.norm(embds[0] + embds[3] - (embds[1] + embds[2]))**2/scale\n"
     ]
    },
    {
     "name": "stdout",
     "output_type": "stream",
     "text": [
      "prev_item.json\n",
      "capitalize.json\n"
     ]
    },
    {
     "name": "stderr",
     "output_type": "stream",
     "text": [
      "/var/folders/6j/b6y80djd4nb5hl73rv3sv8y80000gn/T/ipykernel_52550/1434473628.py:350: RuntimeWarning: invalid value encountered in scalar divide\n",
      "  score = np.linalg.norm(embds[0] + embds[3] - (embds[1] + embds[2]))**2/scale\n"
     ]
    },
    {
     "name": "stdout",
     "output_type": "stream",
     "text": [
      "english-german.json\n",
      "word_length.json\n",
      "country-capital.json\n",
      "synonym.json\n",
      "next_item.json\n",
      "english-french.json\n",
      "singular-plural.json\n",
      "english-spanish.json\n",
      "present-past.json\n",
      "model_name=harmonic\n",
      "scale_mode=dp_0m\n",
      "pca_mode=task\n",
      "n components=5\n",
      "10000\n",
      "Resuming training from out_small_adam_hm\n"
     ]
    },
    {
     "name": "stderr",
     "output_type": "stream",
     "text": [
      "/Users/ziming/opt/anaconda3/lib/python3.9/site-packages/torch/amp/autocast_mode.py:250: UserWarning: User provided device_type of 'cuda', but CUDA is not available. Disabling\n",
      "  warnings.warn(\n"
     ]
    },
    {
     "name": "stdout",
     "output_type": "stream",
     "text": [
      "number of parameters: 123.59M\n",
      "antonym.json\n"
     ]
    },
    {
     "name": "stderr",
     "output_type": "stream",
     "text": [
      "/var/folders/6j/b6y80djd4nb5hl73rv3sv8y80000gn/T/ipykernel_52550/1434473628.py:350: RuntimeWarning: invalid value encountered in scalar divide\n",
      "  score = np.linalg.norm(embds[0] + embds[3] - (embds[1] + embds[2]))**2/scale\n"
     ]
    },
    {
     "name": "stdout",
     "output_type": "stream",
     "text": [
      "prev_item.json\n",
      "capitalize.json\n"
     ]
    },
    {
     "name": "stderr",
     "output_type": "stream",
     "text": [
      "/var/folders/6j/b6y80djd4nb5hl73rv3sv8y80000gn/T/ipykernel_52550/1434473628.py:350: RuntimeWarning: invalid value encountered in scalar divide\n",
      "  score = np.linalg.norm(embds[0] + embds[3] - (embds[1] + embds[2]))**2/scale\n"
     ]
    },
    {
     "name": "stdout",
     "output_type": "stream",
     "text": [
      "english-german.json\n",
      "word_length.json\n",
      "country-capital.json\n",
      "synonym.json\n",
      "next_item.json\n",
      "english-french.json\n",
      "singular-plural.json\n",
      "english-spanish.json\n",
      "present-past.json\n",
      "model_name=harmonic\n",
      "scale_mode=dp_0m\n",
      "pca_mode=task\n",
      "n components=10\n",
      "10000\n",
      "Resuming training from out_small_adam_hm\n"
     ]
    },
    {
     "name": "stderr",
     "output_type": "stream",
     "text": [
      "/Users/ziming/opt/anaconda3/lib/python3.9/site-packages/torch/amp/autocast_mode.py:250: UserWarning: User provided device_type of 'cuda', but CUDA is not available. Disabling\n",
      "  warnings.warn(\n"
     ]
    },
    {
     "name": "stdout",
     "output_type": "stream",
     "text": [
      "number of parameters: 123.59M\n",
      "antonym.json\n"
     ]
    },
    {
     "name": "stderr",
     "output_type": "stream",
     "text": [
      "/var/folders/6j/b6y80djd4nb5hl73rv3sv8y80000gn/T/ipykernel_52550/1434473628.py:350: RuntimeWarning: invalid value encountered in scalar divide\n",
      "  score = np.linalg.norm(embds[0] + embds[3] - (embds[1] + embds[2]))**2/scale\n"
     ]
    },
    {
     "name": "stdout",
     "output_type": "stream",
     "text": [
      "prev_item.json\n",
      "capitalize.json\n"
     ]
    },
    {
     "name": "stderr",
     "output_type": "stream",
     "text": [
      "/var/folders/6j/b6y80djd4nb5hl73rv3sv8y80000gn/T/ipykernel_52550/1434473628.py:350: RuntimeWarning: invalid value encountered in scalar divide\n",
      "  score = np.linalg.norm(embds[0] + embds[3] - (embds[1] + embds[2]))**2/scale\n"
     ]
    },
    {
     "name": "stdout",
     "output_type": "stream",
     "text": [
      "english-german.json\n",
      "word_length.json\n",
      "country-capital.json\n",
      "synonym.json\n",
      "next_item.json\n",
      "english-french.json\n",
      "singular-plural.json\n",
      "english-spanish.json\n",
      "present-past.json\n",
      "model_name=harmonic\n",
      "scale_mode=dp_0m\n",
      "pca_mode=task\n",
      "n components=100\n",
      "10000\n",
      "Resuming training from out_small_adam_hm\n"
     ]
    },
    {
     "name": "stderr",
     "output_type": "stream",
     "text": [
      "/Users/ziming/opt/anaconda3/lib/python3.9/site-packages/torch/amp/autocast_mode.py:250: UserWarning: User provided device_type of 'cuda', but CUDA is not available. Disabling\n",
      "  warnings.warn(\n"
     ]
    },
    {
     "name": "stdout",
     "output_type": "stream",
     "text": [
      "number of parameters: 123.59M\n",
      "antonym.json\n"
     ]
    },
    {
     "name": "stderr",
     "output_type": "stream",
     "text": [
      "/var/folders/6j/b6y80djd4nb5hl73rv3sv8y80000gn/T/ipykernel_52550/1434473628.py:350: RuntimeWarning: invalid value encountered in scalar divide\n",
      "  score = np.linalg.norm(embds[0] + embds[3] - (embds[1] + embds[2]))**2/scale\n"
     ]
    },
    {
     "name": "stdout",
     "output_type": "stream",
     "text": [
      "prev_item.json\n",
      "capitalize.json\n"
     ]
    },
    {
     "name": "stderr",
     "output_type": "stream",
     "text": [
      "/var/folders/6j/b6y80djd4nb5hl73rv3sv8y80000gn/T/ipykernel_52550/1434473628.py:350: RuntimeWarning: invalid value encountered in scalar divide\n",
      "  score = np.linalg.norm(embds[0] + embds[3] - (embds[1] + embds[2]))**2/scale\n"
     ]
    },
    {
     "name": "stdout",
     "output_type": "stream",
     "text": [
      "english-german.json\n",
      "word_length.json\n",
      "country-capital.json\n",
      "synonym.json\n",
      "next_item.json\n",
      "english-french.json\n",
      "singular-plural.json\n",
      "english-spanish.json\n",
      "present-past.json\n"
     ]
    }
   ],
   "source": [
    "import os\n",
    "import time\n",
    "import math\n",
    "import pickle\n",
    "from contextlib import nullcontext\n",
    "import socket\n",
    "import numpy as np\n",
    "import torch\n",
    "from torch.nn.parallel import DistributedDataParallel as DDP\n",
    "from torch.distributed import init_process_group, destroy_process_group\n",
    "\n",
    "from model_tmax import GPTConfig, GPT\n",
    "\n",
    "import warnings\n",
    "from typing import Union, Iterable, List, Dict, Tuple, Optional\n",
    "\n",
    "import torch\n",
    "from torch import Tensor, inf\n",
    "from torch.utils._foreach_utils import _group_tensors_by_device_and_dtype, _has_foreach_support\n",
    "\n",
    "import os\n",
    "import json\n",
    "import numpy as np\n",
    "\n",
    "import os\n",
    "import json\n",
    "import numpy as np\n",
    "import tiktoken\n",
    "from sklearn.decomposition import PCA\n",
    "\n",
    "enc = tiktoken.get_encoding(\"gpt2\")\n",
    "\n",
    "scale_modes = ['all', 'task', 'dp', 'dp_0m']\n",
    "pca_modes = ['all', 'task']\n",
    "\n",
    "\n",
    "\n",
    "#for model_name in ['standard']:\n",
    "#for model_name in ['harmonic']:\n",
    "for model_name in ['standard', 'harmonic']:\n",
    "\n",
    "    for scale_mode in scale_modes:\n",
    "        for pca_mode in pca_modes:\n",
    "\n",
    "            n_componentss = [2,5,10,100]\n",
    "\n",
    "            for n_components in n_componentss:\n",
    "\n",
    "                print(f'model_name={model_name}')\n",
    "                print(f'scale_mode={scale_mode}')\n",
    "                print(f'pca_mode={pca_mode}')\n",
    "                print(f'n components={n_components}')\n",
    "\n",
    "                #model_name = 'standard' #'harmonic'\n",
    "                #model_name = 'harmonic'\n",
    "\n",
    "                ckpt_step = 10000\n",
    "                ppp = []\n",
    "\n",
    "                hostname = socket.gethostname()\n",
    "\n",
    "                print(ckpt_step)\n",
    "                # -----------------------------------------------------------------------------\n",
    "                # default config values designed to train a gpt2 (124M) on OpenWebText\n",
    "                # I/O\n",
    "                out_dir = 'out'\n",
    "                eval_interval = 2000\n",
    "                log_interval = 1\n",
    "                eval_iters = 200\n",
    "                eval_only = False # if True, script exits right after the first eval\n",
    "                always_save_checkpoint = True # if True, always save a checkpoint after each eval\n",
    "                init_from = 'scratch' # 'scratch' or 'resume' or 'gpt2*'\n",
    "                # wandb logging\n",
    "                wandb_log = False # disabled by default\n",
    "                wandb_project = 'owt'\n",
    "                wandb_run_name = 'gpt2' # 'run' + str(time.time())\n",
    "                os.environ[\"WANDB_MODE\"]=\"offline\" # run wandb offline\n",
    "                # data\n",
    "                dataset = 'openwebtext'\n",
    "                gradient_accumulation_steps = 5 # used to simulate larger batch sizes\n",
    "                batch_size = 12 # if gradient_accumulation_steps > 1, this is the micro-batch size\n",
    "                block_size = 1024\n",
    "                # model\n",
    "                n_layer = 12\n",
    "                n_head = 12\n",
    "                n_embd = 768\n",
    "                dropout = 0.0 # for pretraining 0 is good, for finetuning try 0.1+\n",
    "                bias = False # do we use bias inside LayerNorm and Linear layers?\n",
    "                # optimizer\n",
    "                optimizer_name = 'adamw' \n",
    "                learning_rate = 6e-4 # max learning rate\n",
    "                max_iters = 600000 # total number of training iterations\n",
    "                weight_decay = 1e-1\n",
    "                beta1 = 0.9\n",
    "                beta2 = 0.95\n",
    "                grad_clip = 1.0 # clip gradients at this value, or disable if == 0.0\n",
    "                rho = 0.1\n",
    "                interval = 10\n",
    "                variant = 4 \n",
    "                # learning rate decay settings\n",
    "                decay_lr = True # whether to decay the learning rate\n",
    "                warmup_iters = 2000 # how many steps to warm up for\n",
    "                lr_decay_iters = 600000 # should be ~= max_iters per Chinchilla\n",
    "                min_lr = 6e-5 # minimum learning rate, should be ~= learning_rate/10 per Chinchilla\n",
    "                # DDP settings\n",
    "                backend = 'nccl' # 'nccl', 'gloo', etc.\n",
    "                # system\n",
    "                device = 'cuda' # examples: 'cpu', 'cuda', 'cuda:0', 'cuda:1' etc., or try 'mps' on macbooks\n",
    "                dtype = 'float16' # 'float32', 'bfloat16', or 'float16', the latter will auto implement a GradScaler\n",
    "                compile = True # use PyTorch 2.0 to compile the model to be faster\n",
    "                scale_attn_by_inverse_layer_idx = True\n",
    "                # -----------------------------------------------------------------------------\n",
    "                config_keys = [k for k,v in globals().items() if not k.startswith('_') and isinstance(v, (int, float, bool, str))]\n",
    "\n",
    "                wandb_log = True\n",
    "                wandb_project = 'anneal'\n",
    "                wandb_run_name='gpt2-small-weightdecay-0-gradclipvalue-1'\n",
    "\n",
    "                # these make the total batch size be ~0.5M\n",
    "                # 8 batch size * 1024 block size * 6 gradaccum * 10 GPUs = 491,520\n",
    "                batch_size = 8\n",
    "                block_size = 1024\n",
    "                gradient_accumulation_steps = 6\n",
    "\n",
    "                n_layer = 12\n",
    "                n_head = 12\n",
    "                n_embd = 768\n",
    "                dropout = 0.0 # for pretraining 0 is good, for finetuning try 0.1+\n",
    "                bias = False\n",
    "\n",
    "                # this makes total number of tokens be 300B\n",
    "                #max_iters = 100000\n",
    "                max_iters = 10000\n",
    "                lr_decay_iters = 10000\n",
    "\n",
    "                # eval stuff\n",
    "                eval_interval = 1000\n",
    "                eval_iters = 200\n",
    "                log_interval = 10\n",
    "\n",
    "                # optimizer\n",
    "                optimizer_name = 'adamw'\n",
    "                learning_rate = 6e-4 # max learning rate\n",
    "                weight_decay = 0 #1e-1\n",
    "                beta1 = 0.9\n",
    "                beta2 = 0.95\n",
    "                beta3 = 0.\n",
    "                gamma = 1.\n",
    "                lr_max = 6e-4\n",
    "                grad_clip = 1.0 # clip gradients at this value, or disable if == 0.0\n",
    "                # learning rate decay settings\n",
    "                decay_lr = True # whether to decay the learning rate\n",
    "                warmup_iters = 2000 # how many steps to warm up for\n",
    "                #warmup_iters = 0 # how many steps to warm up for\n",
    "                min_lr = 3e-5 \n",
    "\n",
    "                compile = True\n",
    "\n",
    "                if model_name == 'standard':\n",
    "                    out_dir = 'out_small_adam'\n",
    "                if model_name == 'harmonic':\n",
    "                    out_dir = 'out_small_adam_hm'\n",
    "\n",
    "                #out_dir = 'out_small_n_28_scale_28_6e-3_3e-4'\n",
    "                device = 'cpu'\n",
    "\n",
    "                config = {k: globals()[k] for k in config_keys} # will be useful for logging\n",
    "                # -----------------------------------------------------------------------------\n",
    "\n",
    "                # various inits, derived attributes, I/O setup\n",
    "                ddp = int(os.environ.get('RANK', -1)) != -1 # is this a ddp run?\n",
    "                if ddp:\n",
    "                    init_process_group(backend=backend)\n",
    "                    ddp_rank = int(os.environ['RANK'])\n",
    "                    ddp_local_rank = int(os.environ['LOCAL_RANK'])\n",
    "                    world_size = int(os.environ[\"WORLD_SIZE\"])\n",
    "                    torch.cuda.set_device(ddp_local_rank)\n",
    "                    print(f\"Rank {ddp_rank}: world_size={world_size}, local_rank={ddp_local_rank}, hostname={hostname}\")\n",
    "                    master_process = ddp_rank == 0 # this process will do logging, checkpointing etc.\n",
    "                    seed_offset = ddp_rank # each process gets a different seed\n",
    "                    device = torch.device(\"cuda\", ddp_local_rank)\n",
    "                else:\n",
    "                    # if not ddp, we are running on a single gpu, and one process\n",
    "                    master_process = True\n",
    "                    seed_offset = 0\n",
    "                    gradient_accumulation_steps *= 8 # simulate 8 gpus\n",
    "\n",
    "                if master_process:\n",
    "                    os.makedirs(out_dir, exist_ok=True)\n",
    "                torch.manual_seed(5000 + seed_offset)\n",
    "                torch.backends.cuda.matmul.allow_tf32 = True # allow tf32 on matmul\n",
    "                torch.backends.cudnn.allow_tf32 = True # allow tf32 on cudnn\n",
    "                #device_type = 'cuda' if 'cuda' in device else 'cpu' # for later use in torch.autocast\n",
    "                device_type = 'cuda'\n",
    "                # note: float16 data type will automatically use a GradScaler\n",
    "                ptdtype = {'float32': torch.float32, 'bfloat16': torch.bfloat16, 'float16': torch.float16}[dtype]\n",
    "                ctx = nullcontext() if device_type == 'cpu' else torch.autocast(device_type=device_type, dtype=ptdtype)\n",
    "\n",
    "                # poor man's data loader\n",
    "                #data_dir = os.path.join('data', dataset)\n",
    "                data_dir = os.path.join('./')\n",
    "                #data_dir = './data'\n",
    "                train_data = np.memmap(os.path.join(data_dir, 'train.bin'), dtype=np.uint16, mode='r')\n",
    "                val_data = np.memmap(os.path.join(data_dir, 'val.bin'), dtype=np.uint16, mode='r')\n",
    "                def get_batch(split):\n",
    "                    data = train_data if split == 'train' else val_data\n",
    "                    ix = torch.randint(len(data) - block_size, (batch_size,))\n",
    "                    x = torch.stack([torch.from_numpy((data[i:i+block_size]).astype(np.int64)) for i in ix])\n",
    "                    y = torch.stack([torch.from_numpy((data[i+1:i+1+block_size]).astype(np.int64)) for i in ix])\n",
    "                    if device_type == 'cuda':\n",
    "                        # pin arrays x,y, which allows us to move them to GPU asynchronously (non_blocking=True)\n",
    "                        x, y = x.pin_memory().to(device, non_blocking=True), y.pin_memory().to(device, non_blocking=True)\n",
    "                    else:\n",
    "                        x, y = x.to(device), y.to(device)\n",
    "                    return x, y\n",
    "\n",
    "                # init these up here, can override if init_from='resume' (i.e. from a checkpoint)\n",
    "                iter_num = 0\n",
    "                best_val_loss = 1e9\n",
    "\n",
    "                # attempt to derive vocab_size from the dataset\n",
    "                meta_path = os.path.join(data_dir, 'meta.pkl')\n",
    "                meta_vocab_size = None\n",
    "                if os.path.exists(meta_path):\n",
    "                    with open(meta_path, 'rb') as f:\n",
    "                        meta = pickle.load(f)\n",
    "                    meta_vocab_size = meta['vocab_size']\n",
    "                    print(f\"found vocab_size = {meta_vocab_size} (inside {meta_path})\")\n",
    "\n",
    "                # model init\n",
    "                model_args = dict(n_layer=n_layer, n_head=n_head, n_embd=n_embd, block_size=block_size,\n",
    "                                  bias=bias, vocab_size=None, dropout=dropout, scale_attn_by_inverse_layer_idx=scale_attn_by_inverse_layer_idx) # start with model_args from command line\n",
    "\n",
    "\n",
    "                print(f\"Resuming training from {out_dir}\")\n",
    "                # resume training from a checkpoint.\n",
    "                ckpt_path = os.path.join(out_dir, f'ckpt_{ckpt_step}.pt')\n",
    "                checkpoint = torch.load(ckpt_path, map_location=device)\n",
    "                checkpoint_model_args = checkpoint['model_args']\n",
    "                # force these config attributes to be equal otherwise we can't even resume training\n",
    "                # the rest of the attributes (e.g. dropout) can stay as desired from command line\n",
    "                for k in ['n_layer', 'n_head', 'n_embd', 'block_size', 'bias', 'vocab_size']:\n",
    "                    model_args[k] = checkpoint_model_args[k]\n",
    "                # create the model\n",
    "                gptconf = GPTConfig(**model_args)\n",
    "                model = GPT(gptconf)\n",
    "                state_dict = checkpoint['model']\n",
    "                # fix the keys of the state dictionary :(\n",
    "                # honestly no idea how checkpoints sometimes get this prefix, have to debug more\n",
    "                unwanted_prefix = '_orig_mod.'\n",
    "                for k,v in list(state_dict.items()):\n",
    "                    if k.startswith(unwanted_prefix):\n",
    "                        state_dict[k[len(unwanted_prefix):]] = state_dict.pop(k)\n",
    "                model.load_state_dict(state_dict)\n",
    "                iter_num = checkpoint['iter_num']\n",
    "                best_val_loss = checkpoint['best_val_loss']\n",
    "\n",
    "                def listdir_nohidden(path):\n",
    "                    for f in os.listdir(path):\n",
    "                        if not f.startswith('.'):\n",
    "                            yield f\n",
    "\n",
    "                arr = list(listdir_nohidden('./abstractive'))\n",
    "\n",
    "                scoress = []\n",
    "\n",
    "                for file in arr:  \n",
    "\n",
    "                    print(file)\n",
    "                    #if file == 'singular-plural.json'\n",
    "\n",
    "                    seed = 0\n",
    "                    np.random.seed(seed)\n",
    "\n",
    "                    with open(f'./abstractive/{file}', 'r') as f:\n",
    "                        data = json.load(f)\n",
    "\n",
    "                    p = len(data)\n",
    "\n",
    "                    n_train = 10000\n",
    "\n",
    "                    id1 = np.random.choice(p, n_train)\n",
    "                    id_diff = np.random.choice(p-1, n_train) + 1\n",
    "                    id2 = (id1 + id_diff) % p\n",
    "\n",
    "\n",
    "                    wordss = []\n",
    "\n",
    "                    for i in range(n_train):\n",
    "                        wordss.append([data[id1[i]]['input'],data[id1[i]]['output'], data[id2[i]]['input'],data[id2[i]]['output']])\n",
    "\n",
    "\n",
    "                    embd_model = model.transformer.wte.weight.detach().numpy()\n",
    "                    embd_model = embd_model - np.mean(embd_model, axis=0)[None,:]\n",
    "\n",
    "\n",
    "                    embds_task = []\n",
    "                    for words in wordss:\n",
    "                        for i in range(4):\n",
    "                            true_content = words[i]\n",
    "                            idx = enc.encode(true_content)\n",
    "                            embds_task.append(embd_model[idx[-1]])\n",
    "\n",
    "                    embds_task = np.array(embds_task)\n",
    "\n",
    "\n",
    "                    pca = PCA(n_components=n_components)\n",
    "\n",
    "                    if pca_mode == 'all':\n",
    "                        embd_model_pca = pca.fit_transform(embd_model)\n",
    "                    elif pca_mode == 'task':\n",
    "                        pca.fit(embds_task)\n",
    "                        embd_model_pca = pca.transform(embd_model)\n",
    "\n",
    "                    \n",
    "                    if scale_mode == 'all':\n",
    "                        scale = np.mean(embd_model_pca**2) * n_components\n",
    "                    elif scale_mode == 'task':\n",
    "                        embds_task = []\n",
    "                        for words in wordss:\n",
    "                            for i in range(4):\n",
    "                                true_content = words[i]\n",
    "                                idx = enc.encode(true_content)\n",
    "                                embds_task.append(embd_model_pca[idx[-1]])\n",
    "\n",
    "                        embds_task = np.array(embds_task)\n",
    "                        scale = np.mean(embds_task**2) * n_components\n",
    "\n",
    "                    \n",
    "\n",
    "                    scores = []\n",
    "\n",
    "                    for words in wordss:\n",
    "                        embds = []\n",
    "\n",
    "                        for i in range(4):\n",
    "                            true_content = words[i]\n",
    "                            idx = enc.encode(true_content)\n",
    "                            embds.append(embd_model_pca[idx[-1]])\n",
    "\n",
    "                        embds = np.array(embds)\n",
    "                        \n",
    "                        if scale_mode == 'dp':\n",
    "                            scale = np.mean(embds**2)\n",
    "                            \n",
    "                        elif scale_mode == 'dp_0m':\n",
    "                            embds -= np.mean(embds, axis=0)[None, :]\n",
    "                            scale = np.mean(embds**2)\n",
    "                        \n",
    "                        score = np.linalg.norm(embds[0] + embds[3] - (embds[1] + embds[2]))**2/scale\n",
    "                        scores.append(score)\n",
    "\n",
    "                    scoress.append(scores)\n",
    "\n",
    "                    if model_name == 'harmonic':\n",
    "                        np.save(f'./results/fv_hm_{n_components}pc_pca_{pca_mode}_scale_{scale_mode}', np.array(scoress))\n",
    "                    if model_name == 'standard':\n",
    "                        np.save(f'./results/fv_ce_{n_components}pc_pca_{pca_mode}_scale_{scale_mode}', np.array(scoress))"
   ]
  },
  {
   "cell_type": "code",
   "execution_count": 23,
   "id": "1df04095",
   "metadata": {},
   "outputs": [],
   "source": [
    "n_components = 2\n",
    "pca_mode = 'all'\n",
    "scale_mode = 'all'\n",
    "\n",
    "#scale_modes = ['all', 'task', 'dp', 'dp_0m']\n",
    "#pca_modes = ['all', 'task']\n",
    "\n",
    "\n",
    "ce = np.load(f'./results/fv_ce_{n_components}pc_pca_{pca_mode}_scale_{scale_mode}.npy')\n",
    "hm = np.load(f'./results/fv_hm_{n_components}pc_pca_{pca_mode}_scale_{scale_mode}.npy')"
   ]
  },
  {
   "cell_type": "code",
   "execution_count": 24,
   "id": "2a1dbbef",
   "metadata": {
    "scrolled": false
   },
   "outputs": [
    {
     "data": {
      "text/plain": [
       "Text(0.5, 1.02, 'parallelogram loss (2 PC)')"
      ]
     },
     "execution_count": 24,
     "metadata": {},
     "output_type": "execute_result"
    },
    {
     "data": {
      "image/png": "[encoded data removed]",
      "text/plain": [
       "<Figure size 1200x400 with 12 Axes>"
      ]
     },
     "metadata": {},
     "output_type": "display_data"
    }
   ],
   "source": [
    "import matplotlib.pyplot as plt\n",
    "\n",
    "plt.figure(figsize=(12,4))\n",
    "\n",
    "for i in range(12):\n",
    "    plt.subplot(2,6,i+1)\n",
    "    \n",
    "    plt.scatter(ce[i], hm[i], s=1, alpha=0.1)\n",
    "    plt.plot([-5,50],[-5,50], ls='--', color='red')\n",
    "    plt.xlim(-2,42)\n",
    "    plt.ylim(-2,42)\n",
    "    if i < 6:\n",
    "        plt.xticks([])\n",
    "    else:\n",
    "        plt.xticks([0,20,40])\n",
    "    if i > 5:\n",
    "        plt.xlabel('standard')\n",
    "    if i == 0 or i == 6:\n",
    "        plt.ylabel('harmonic')\n",
    "        plt.yticks([0,20,40])\n",
    "    else:\n",
    "        plt.yticks([])\n",
    "    plt.title(arr[i][:-5])\n",
    "    \n",
    "    \n",
    "plt.subplots_adjust(wspace=0.0, hspace=0.2)\n",
    "\n",
    "plt.suptitle(f'parallelogram loss ({n_components} PC)', fontsize=15, y=1.02)\n",
    "#plt.savefig(f'./gpt2_ploss_scatter_{n_components}pc.png', bbox_inches='tight', dpi=200)"
   ]
  },
  {
   "cell_type": "code",
   "execution_count": 25,
   "id": "1b1af868",
   "metadata": {},
   "outputs": [
    {
     "data": {
      "text/plain": [
       "Text(0.5, 1.02, 'accumulated fractions (2 PC)')"
      ]
     },
     "execution_count": 25,
     "metadata": {},
     "output_type": "execute_result"
    },
    {
     "data": {
      "image/png": "[encoded data removed]",
      "text/plain": [
       "<Figure size 1200x400 with 12 Axes>"
      ]
     },
     "metadata": {},
     "output_type": "display_data"
    }
   ],
   "source": [
    "plt.figure(figsize=(12,4))\n",
    "\n",
    "for i in range(12):\n",
    "    plt.subplot(2,6,i+1)\n",
    "    \n",
    "    thresholds = np.linspace(0,40,num=401)\n",
    "    ces = []\n",
    "    hms = []\n",
    "    i_task = i\n",
    "    ce_base = np.sum(ce[i_task] == 0)\n",
    "    hm_base = np.sum(hm[i_task] == 0)\n",
    "\n",
    "    for threshold in thresholds:\n",
    "        ces.append(np.sum(ce[i_task] < threshold)-ce_base)\n",
    "        hms.append(np.sum(hm[i_task] < threshold)-hm_base)\n",
    "\n",
    "    plt.plot(thresholds, np.array(ces)/n_train)\n",
    "    plt.plot(thresholds, np.array(hms)/n_train)\n",
    "    \n",
    "    if i >= 6:\n",
    "        plt.xlabel('parallelogram loss')\n",
    "    if i == 0 or i == 6:\n",
    "        plt.ylabel('fractions')\n",
    "    else:\n",
    "        plt.yticks([])\n",
    "    if i == 0:\n",
    "        plt.legend(['standard', 'harmonic'])\n",
    "    if i < 6:\n",
    "        plt.xticks([])\n",
    "        \n",
    "    #plt.xscale('log')\n",
    "        \n",
    "    plt.title(arr[i][:-5])\n",
    "plt.subplots_adjust(wspace=0.0, hspace=0.2)\n",
    "plt.suptitle(f'accumulated fractions ({n_components} PC)', fontsize=15, y=1.02)\n",
    "#plt.savefig(f'./gpt2_fraction_{n_components}pc.png', bbox_inches='tight', dpi=200)"
   ]
  },
  {
   "cell_type": "code",
   "execution_count": null,
   "id": "281aad4f",
   "metadata": {},
   "outputs": [],
   "source": []
  }
 ],
 "metadata": {
  "kernelspec": {
   "display_name": "Python 3 (ipykernel)",
   "language": "python",
   "name": "python3"
  },
  "language_info": {
   "codemirror_mode": {
    "name": "ipython",
    "version": 3
   },
   "file_extension": ".py",
   "mimetype": "text/x-python",
   "name": "python",
   "nbconvert_exporter": "python",
   "pygments_lexer": "ipython3",
   "version": "3.9.7"
  }
 },
 "nbformat": 4,
 "nbformat_minor": 5
}
